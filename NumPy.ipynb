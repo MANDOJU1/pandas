{
  "nbformat": 4,
  "nbformat_minor": 0,
  "metadata": {
    "colab": {
      "provenance": [],
      "authorship_tag": "ABX9TyMM/5rD2KIJGT5nrS8l5OOe",
      "include_colab_link": true
    },
    "kernelspec": {
      "name": "python3",
      "display_name": "Python 3"
    },
    "language_info": {
      "name": "python"
    }
  },
  "cells": [
    {
      "cell_type": "markdown",
      "metadata": {
        "id": "view-in-github",
        "colab_type": "text"
      },
      "source": [
        "<a href=\"https://colab.research.google.com/github/MANDOJU1/pandas/blob/main/NumPy.ipynb\" target=\"_parent\"><img src=\"https://colab.research.google.com/assets/colab-badge.svg\" alt=\"Open In Colab\"/></a>"
      ]
    },
    {
      "cell_type": "markdown",
      "source": [
        "### NumPy(넘파이)\n",
        "- 과학 계산 및 수학 계산 라이브러리\n",
        "- 이미지와 컴퓨터 그래픽을 빠르게 처리\n",
        "- 반복문을 작성하지 않고 전체 데이터 배열을 빠르게 계산할 수 잇는 수학 함수 제공\n",
        "\n",
        "> NumPy 배열\n",
        "- 벡(1차원)와 매트릭스(2차원)를 배열이라고 함\n",
        "- 머신러닝에서 사용하는 주요 데이터 구조"
      ],
      "metadata": {
        "id": "lwwJ9chQgvEG"
      }
    },
    {
      "cell_type": "code",
      "execution_count": 1,
      "metadata": {
        "id": "xbLJmhf-dbr2"
      },
      "outputs": [],
      "source": [
        "import numpy as np"
      ]
    },
    {
      "cell_type": "markdown",
      "source": [
        "### 1. 1차원 배열(벡터)"
      ],
      "metadata": {
        "id": "gS0D8mrJiKik"
      }
    },
    {
      "cell_type": "code",
      "source": [
        "array1 = np.array([1,2,3,4])\n",
        "array1 # array([1, 2, 3, 4])"
      ],
      "metadata": {
        "colab": {
          "base_uri": "https://localhost:8080/"
        },
        "id": "f7evLyqvhSIo",
        "outputId": "4e5c7edc-bfd5-4672-f0bb-140ed654f14e"
      },
      "execution_count": 3,
      "outputs": [
        {
          "output_type": "execute_result",
          "data": {
            "text/plain": [
              "array([1, 2, 3, 4])"
            ]
          },
          "metadata": {},
          "execution_count": 3
        }
      ]
    },
    {
      "cell_type": "code",
      "source": [
        "array1.shape # (4,)"
      ],
      "metadata": {
        "colab": {
          "base_uri": "https://localhost:8080/"
        },
        "id": "c7COBeI2hVVA",
        "outputId": "d988bebf-d020-4271-d941-93357e3d7354"
      },
      "execution_count": 4,
      "outputs": [
        {
          "output_type": "execute_result",
          "data": {
            "text/plain": [
              "(4,)"
            ]
          },
          "metadata": {},
          "execution_count": 4
        }
      ]
    },
    {
      "cell_type": "markdown",
      "source": [
        "### 2. 2차원 배열(매트릭스)"
      ],
      "metadata": {
        "id": "YI5C337Tikyc"
      }
    },
    {
      "cell_type": "code",
      "source": [
        "data1 = [\n",
        "    [1,2,3],\n",
        "    [4,5,6]\n",
        "]\n",
        "\n",
        "array2 = np.array(data1)\n",
        "array2"
      ],
      "metadata": {
        "colab": {
          "base_uri": "https://localhost:8080/"
        },
        "id": "DJjPIAn8ig2I",
        "outputId": "ee749f82-9a35-4732-aa1c-9b7b421adf0b"
      },
      "execution_count": 5,
      "outputs": [
        {
          "output_type": "execute_result",
          "data": {
            "text/plain": [
              "array([[1, 2, 3],\n",
              "       [4, 5, 6]])"
            ]
          },
          "metadata": {},
          "execution_count": 5
        }
      ]
    },
    {
      "cell_type": "code",
      "source": [
        "array2.shape # (2, 3)"
      ],
      "metadata": {
        "colab": {
          "base_uri": "https://localhost:8080/"
        },
        "id": "0Laww6GDi5I_",
        "outputId": "6dba5220-9681-4921-9e5d-18f4e0114b8e"
      },
      "execution_count": 6,
      "outputs": [
        {
          "output_type": "execute_result",
          "data": {
            "text/plain": [
              "(2, 3)"
            ]
          },
          "metadata": {},
          "execution_count": 6
        }
      ]
    },
    {
      "cell_type": "code",
      "source": [
        "array3 = np.array([[1,2,3,4]])\n",
        "array3.shape"
      ],
      "metadata": {
        "colab": {
          "base_uri": "https://localhost:8080/"
        },
        "id": "Zusnk6k7jBGd",
        "outputId": "b858f251-4493-4a9a-bd3b-59558eb7ce80"
      },
      "execution_count": 7,
      "outputs": [
        {
          "output_type": "execute_result",
          "data": {
            "text/plain": [
              "(1, 4)"
            ]
          },
          "metadata": {},
          "execution_count": 7
        }
      ]
    },
    {
      "cell_type": "code",
      "source": [
        "# ndim : 차원 수 알아보기\n",
        "print(array1.ndim)\n",
        "print(array2.ndim)\n",
        "print(array3.ndim)"
      ],
      "metadata": {
        "colab": {
          "base_uri": "https://localhost:8080/"
        },
        "id": "uJfoRdZFjK_c",
        "outputId": "29ee6ec5-40d9-4358-aca4-36759d64e4f1"
      },
      "execution_count": 8,
      "outputs": [
        {
          "output_type": "stream",
          "name": "stdout",
          "text": [
            "1\n",
            "2\n",
            "2\n"
          ]
        }
      ]
    },
    {
      "cell_type": "code",
      "source": [
        "# 파이썬에서 리스트는 서로 다른 타입 가짐\n",
        "\n",
        "list1 = [1,2,\"a\",3.5]\n",
        "list1 # [1, 2, 'a', 3.5]"
      ],
      "metadata": {
        "colab": {
          "base_uri": "https://localhost:8080/"
        },
        "id": "tdRNHAncjYwl",
        "outputId": "7f70bd62-92b0-49a7-aa28-8450f763351b"
      },
      "execution_count": 9,
      "outputs": [
        {
          "output_type": "execute_result",
          "data": {
            "text/plain": [
              "[1, 2, 'a', 3.5]"
            ]
          },
          "metadata": {},
          "execution_count": 9
        }
      ]
    },
    {
      "cell_type": "code",
      "source": [
        "# numpy 는 하나의 타입으로 변경해서 array를 생성\n",
        "\n",
        "np.array(list1)"
      ],
      "metadata": {
        "colab": {
          "base_uri": "https://localhost:8080/"
        },
        "id": "SZHNKhprjs-t",
        "outputId": "62cc416f-82c1-42fc-906d-0d8b5cb89897"
      },
      "execution_count": 10,
      "outputs": [
        {
          "output_type": "execute_result",
          "data": {
            "text/plain": [
              "array(['1', '2', 'a', '3.5'], dtype='<U32')"
            ]
          },
          "metadata": {},
          "execution_count": 10
        }
      ]
    },
    {
      "cell_type": "code",
      "source": [
        "# array1 의 타입 변경\n",
        "\n",
        "# array1.dtype # 현재 'int64'\n",
        "# astype()\n",
        "# float64 : float 를 64비트로 표현\n",
        "array_f1 = array1.astype('float64')\n",
        "array_f1.dtype # 'float64'"
      ],
      "metadata": {
        "colab": {
          "base_uri": "https://localhost:8080/"
        },
        "id": "rp2xGUKgjtO4",
        "outputId": "e494fac3-e207-4dde-9215-3192da598080"
      },
      "execution_count": 15,
      "outputs": [
        {
          "output_type": "execute_result",
          "data": {
            "text/plain": [
              "dtype('float64')"
            ]
          },
          "metadata": {},
          "execution_count": 15
        }
      ]
    },
    {
      "cell_type": "markdown",
      "source": [
        "### 3. NumPy 함수\n"
      ],
      "metadata": {
        "id": "9LfZuzvilBgc"
      }
    },
    {
      "cell_type": "code",
      "source": [
        "# arange(n) : 0 ~ n-1 해당하는 넘파이 배열 생성\n",
        "\n",
        "np.arange(10) # 1 ~ 9\n",
        "np.arange(5, 10) # 5 ~ 9\n",
        "np.arange(1, 10, 2) # 1 ~ 9 사이를 2씩 증가"
      ],
      "metadata": {
        "colab": {
          "base_uri": "https://localhost:8080/"
        },
        "id": "3IkodBDCkOy3",
        "outputId": "e0a1bf66-c789-4f99-c306-645c3533df36"
      },
      "execution_count": 19,
      "outputs": [
        {
          "output_type": "execute_result",
          "data": {
            "text/plain": [
              "array([1, 3, 5, 7, 9])"
            ]
          },
          "metadata": {},
          "execution_count": 19
        }
      ]
    },
    {
      "cell_type": "code",
      "source": [
        "# 5의 배수 넘파이 배열 생성\n",
        "\n",
        "np.arange(5, 101, 5)"
      ],
      "metadata": {
        "colab": {
          "base_uri": "https://localhost:8080/"
        },
        "id": "XU24Gv43lrMz",
        "outputId": "22dbf534-c24a-4169-ad0b-4a9348a29b4e"
      },
      "execution_count": 20,
      "outputs": [
        {
          "output_type": "execute_result",
          "data": {
            "text/plain": [
              "array([  5,  10,  15,  20,  25,  30,  35,  40,  45,  50,  55,  60,  65,\n",
              "        70,  75,  80,  85,  90,  95, 100])"
            ]
          },
          "metadata": {},
          "execution_count": 20
        }
      ]
    },
    {
      "cell_type": "code",
      "source": [
        "# zeros(n) : n 개만큼 0을 채워서 넘파이 1 차원 배열 생성\n",
        "# zeros(행, 열) : 2차원 배열\n",
        "\n",
        "np.zeros(4) # array([0., 0., 0., 0.])\n",
        "\n",
        "np.zeros((3,4)) # 3행 4열\n",
        "np.zeros((3,4,2))"
      ],
      "metadata": {
        "colab": {
          "base_uri": "https://localhost:8080/"
        },
        "id": "WRSUggDwl-1q",
        "outputId": "f9ed48b2-c37c-4689-c723-d6286c806257"
      },
      "execution_count": 59,
      "outputs": [
        {
          "output_type": "execute_result",
          "data": {
            "text/plain": [
              "array([[[0., 0.],\n",
              "        [0., 0.],\n",
              "        [0., 0.],\n",
              "        [0., 0.]],\n",
              "\n",
              "       [[0., 0.],\n",
              "        [0., 0.],\n",
              "        [0., 0.],\n",
              "        [0., 0.]],\n",
              "\n",
              "       [[0., 0.],\n",
              "        [0., 0.],\n",
              "        [0., 0.],\n",
              "        [0., 0.]]])"
            ]
          },
          "metadata": {},
          "execution_count": 59
        }
      ]
    },
    {
      "cell_type": "code",
      "source": [
        "# ones(n) : n 개만큼 1을 채워서 넘파이 1 차원 배열 생성\n",
        "\n",
        "np.ones(4)\n",
        "np.ones((2,3)) # 2행 3열\n",
        "np.ones((2,3,2))"
      ],
      "metadata": {
        "colab": {
          "base_uri": "https://localhost:8080/"
        },
        "id": "vtlaZcBHm3Ka",
        "outputId": "654c7923-3567-4a4e-d578-d47000d2f825"
      },
      "execution_count": 36,
      "outputs": [
        {
          "output_type": "execute_result",
          "data": {
            "text/plain": [
              "array([[[1., 1.],\n",
              "        [1., 1.],\n",
              "        [1., 1.]],\n",
              "\n",
              "       [[1., 1.],\n",
              "        [1., 1.],\n",
              "        [1., 1.]]])"
            ]
          },
          "metadata": {},
          "execution_count": 36
        }
      ]
    },
    {
      "cell_type": "code",
      "source": [
        "# np.empty() : 임의의 값을 넣어줌\n",
        "\n",
        "np.empty(4)\n",
        "np.empty((3,4), dtype=int)"
      ],
      "metadata": {
        "id": "wRk_EHKyn7SY"
      },
      "execution_count": null,
      "outputs": []
    },
    {
      "cell_type": "code",
      "source": [
        "# np.full() : 특정한 값으로 채워진 넘파이 배열\n",
        "np.full(4, fill_value=7)\n",
        "np.full((4,4), fill_value=5)"
      ],
      "metadata": {
        "colab": {
          "base_uri": "https://localhost:8080/"
        },
        "id": "xM1W-Mkvn4eD",
        "outputId": "f17de2c5-90cb-4ddd-b1b4-295bec4a4532"
      },
      "execution_count": 56,
      "outputs": [
        {
          "output_type": "execute_result",
          "data": {
            "text/plain": [
              "array([[5, 5, 5, 5],\n",
              "       [5, 5, 5, 5],\n",
              "       [5, 5, 5, 5],\n",
              "       [5, 5, 5, 5]])"
            ]
          },
          "metadata": {},
          "execution_count": 56
        }
      ]
    },
    {
      "cell_type": "code",
      "source": [
        "# np.eye(n) : 단위행렬\n",
        "np.eye(3)"
      ],
      "metadata": {
        "colab": {
          "base_uri": "https://localhost:8080/"
        },
        "id": "EOh89GU2oOdJ",
        "outputId": "3d1f4cdd-d716-4705-c933-f137c0402963"
      },
      "execution_count": 58,
      "outputs": [
        {
          "output_type": "execute_result",
          "data": {
            "text/plain": [
              "array([[1., 0., 0.],\n",
              "       [0., 1., 0.],\n",
              "       [0., 0., 1.]])"
            ]
          },
          "metadata": {},
          "execution_count": 58
        }
      ]
    },
    {
      "cell_type": "code",
      "source": [
        "# np.linspace(시작, 끝, 전체개수) : 시작과 끝 범위에서 균등하게 분할 된 값으로 반환\n",
        "\n",
        "np.linspace(1,10,5)\n",
        "np.linspace(1,10,4)"
      ],
      "metadata": {
        "colab": {
          "base_uri": "https://localhost:8080/"
        },
        "id": "P534G1tjogIB",
        "outputId": "d27037ee-7e8e-474c-c870-9222bfd42c3f"
      },
      "execution_count": 61,
      "outputs": [
        {
          "output_type": "execute_result",
          "data": {
            "text/plain": [
              "array([ 1.,  4.,  7., 10.])"
            ]
          },
          "metadata": {},
          "execution_count": 61
        }
      ]
    },
    {
      "cell_type": "code",
      "source": [
        "# np.random.rand(n) : 0 ~ 1 사이\n",
        "np.random.rand(2,3)"
      ],
      "metadata": {
        "colab": {
          "base_uri": "https://localhost:8080/"
        },
        "id": "CTYyRrUopT2g",
        "outputId": "8516e159-bdb0-4d04-a49a-444aa9a142d8"
      },
      "execution_count": 63,
      "outputs": [
        {
          "output_type": "execute_result",
          "data": {
            "text/plain": [
              "array([[0.82895425, 0.82368354, 0.38904306],\n",
              "       [0.86842552, 0.78684088, 0.93095931]])"
            ]
          },
          "metadata": {},
          "execution_count": 63
        }
      ]
    },
    {
      "cell_type": "code",
      "source": [
        "# np.random.randn() : 정규분포로 샘플링 된 배열 생성\n",
        "np.random.randn(5)\n",
        "np.random.randn(3,4) # (()) : 괄호 두개 X"
      ],
      "metadata": {
        "colab": {
          "base_uri": "https://localhost:8080/"
        },
        "id": "-XLrGa0-plwQ",
        "outputId": "db0583c7-43c5-4d1c-ac09-a21680ea4145"
      },
      "execution_count": 66,
      "outputs": [
        {
          "output_type": "execute_result",
          "data": {
            "text/plain": [
              "array([[-0.3811798 ,  2.02600336,  0.95624909, -0.43845318],\n",
              "       [ 0.48348421,  1.02616821, -1.0062471 ,  0.25329582],\n",
              "       [-0.97510119, -0.21689058, -0.77766541,  1.48331399]])"
            ]
          },
          "metadata": {},
          "execution_count": 66
        }
      ]
    },
    {
      "cell_type": "code",
      "source": [
        "# np.random.randnint(시작, 끝, 개수) : 특정 범위안에 숫자 추출\n",
        "\n",
        "np.random.randint(1, 10, 5)"
      ],
      "metadata": {
        "colab": {
          "base_uri": "https://localhost:8080/"
        },
        "id": "mEtU8bl6p2vf",
        "outputId": "ad6d1e88-1127-48fb-827d-4a856fcc5ffa"
      },
      "execution_count": 68,
      "outputs": [
        {
          "output_type": "execute_result",
          "data": {
            "text/plain": [
              "array([9, 2, 4, 5, 8])"
            ]
          },
          "metadata": {},
          "execution_count": 68
        }
      ]
    },
    {
      "cell_type": "code",
      "source": [
        "# np.random.seed(임의의 숫자) : random 사용 시 실행할 때마다 결과가 다르게 나오는 것을 방지\n",
        "\n",
        "np.random.seed(140)\n",
        "np.random.randn(2,3)"
      ],
      "metadata": {
        "colab": {
          "base_uri": "https://localhost:8080/"
        },
        "id": "O2Z2ACylqZ9Q",
        "outputId": "a69123cd-d72b-4b5e-ff4a-f286a4358efd"
      },
      "execution_count": 76,
      "outputs": [
        {
          "output_type": "execute_result",
          "data": {
            "text/plain": [
              "array([[-0.46716782,  0.29599552,  0.18548011],\n",
              "       [-0.82809842, -0.03192753,  1.00155352]])"
            ]
          },
          "metadata": {},
          "execution_count": 76
        }
      ]
    },
    {
      "cell_type": "code",
      "source": [
        "# np.random.choice(n) : 0 ~ n-1 까지 임의의 수 추출\n",
        "np.random.choice(100)\n",
        "np.random.choice(100, size=(3,4))  # 3행 4열로 만들어줘"
      ],
      "metadata": {
        "colab": {
          "base_uri": "https://localhost:8080/"
        },
        "id": "y3Ilr5Taq5-S",
        "outputId": "c2926905-1267-4ac6-f8c1-f1c795272c83"
      },
      "execution_count": 82,
      "outputs": [
        {
          "output_type": "execute_result",
          "data": {
            "text/plain": [
              "array([[36, 36, 40, 13],\n",
              "       [84, 33, 67, 20],\n",
              "       [10, 93, 51,  0]])"
            ]
          },
          "metadata": {},
          "execution_count": 82
        }
      ]
    },
    {
      "cell_type": "markdown",
      "source": [
        "### 4. 인덱싱과 슬라이싱\n"
      ],
      "metadata": {
        "id": "haiP1Y4l7wQV"
      }
    },
    {
      "cell_type": "code",
      "source": [
        "arr1 = np.arange(1,10)\n",
        "arr1\n",
        "\n",
        "print(arr1[2])\n",
        "print(arr1[-2])\n",
        "\n",
        "# 값 바꾸기\n",
        "arr1[3] = 18\n",
        "arr1"
      ],
      "metadata": {
        "colab": {
          "base_uri": "https://localhost:8080/"
        },
        "id": "ci7hCUss7q1o",
        "outputId": "1b4cc065-798c-42cb-960a-3b06f2e52792"
      },
      "execution_count": 86,
      "outputs": [
        {
          "output_type": "stream",
          "name": "stdout",
          "text": [
            "3\n",
            "8\n"
          ]
        },
        {
          "output_type": "execute_result",
          "data": {
            "text/plain": [
              "array([ 1,  2,  3, 18,  5,  6,  7,  8,  9])"
            ]
          },
          "metadata": {},
          "execution_count": 86
        }
      ]
    },
    {
      "cell_type": "code",
      "source": [
        "# reshape()\n",
        "arr1 = np.arange(1,10).reshape(3,3)"
      ],
      "metadata": {
        "id": "pKzb44Jg7_Hu"
      },
      "execution_count": 89,
      "outputs": []
    },
    {
      "cell_type": "code",
      "source": [
        "print(arr1[0,0])\n",
        "print(arr1[1,1])"
      ],
      "metadata": {
        "colab": {
          "base_uri": "https://localhost:8080/"
        },
        "id": "6zYzn_027_R2",
        "outputId": "760ee659-a356-4658-9eff-87cc842374b8"
      },
      "execution_count": 90,
      "outputs": [
        {
          "output_type": "stream",
          "name": "stdout",
          "text": [
            "1\n",
            "5\n"
          ]
        }
      ]
    },
    {
      "cell_type": "code",
      "source": [
        "# 3 차원 : 텐서\n",
        "arr1 = np.arange(36).reshape(3,4,3)\n",
        "arr1"
      ],
      "metadata": {
        "colab": {
          "base_uri": "https://localhost:8080/"
        },
        "id": "nRd0lNpO8h3g",
        "outputId": "0de5b1fe-9ae3-4225-b9a1-b3e6ec503451"
      },
      "execution_count": 91,
      "outputs": [
        {
          "output_type": "execute_result",
          "data": {
            "text/plain": [
              "array([[[ 0,  1,  2],\n",
              "        [ 3,  4,  5],\n",
              "        [ 6,  7,  8],\n",
              "        [ 9, 10, 11]],\n",
              "\n",
              "       [[12, 13, 14],\n",
              "        [15, 16, 17],\n",
              "        [18, 19, 20],\n",
              "        [21, 22, 23]],\n",
              "\n",
              "       [[24, 25, 26],\n",
              "        [27, 28, 29],\n",
              "        [30, 31, 32],\n",
              "        [33, 34, 35]]])"
            ]
          },
          "metadata": {},
          "execution_count": 91
        }
      ]
    },
    {
      "cell_type": "code",
      "source": [
        "arr1[0]"
      ],
      "metadata": {
        "colab": {
          "base_uri": "https://localhost:8080/"
        },
        "id": "6xD6iqPS9EGL",
        "outputId": "97e367c9-5e00-4129-c673-02a6f859e717"
      },
      "execution_count": 93,
      "outputs": [
        {
          "output_type": "execute_result",
          "data": {
            "text/plain": [
              "array([[ 0,  1,  2],\n",
              "       [ 3,  4,  5],\n",
              "       [ 6,  7,  8],\n",
              "       [ 9, 10, 11]])"
            ]
          },
          "metadata": {},
          "execution_count": 93
        }
      ]
    },
    {
      "cell_type": "code",
      "source": [
        "arr1[0,1]"
      ],
      "metadata": {
        "colab": {
          "base_uri": "https://localhost:8080/"
        },
        "id": "uojA-NwN9ES-",
        "outputId": "ef281141-620d-4c2d-c434-20f04cea6897"
      },
      "execution_count": 95,
      "outputs": [
        {
          "output_type": "execute_result",
          "data": {
            "text/plain": [
              "array([3, 4, 5])"
            ]
          },
          "metadata": {},
          "execution_count": 95
        }
      ]
    },
    {
      "cell_type": "code",
      "source": [
        "arr1[0,1,-1]"
      ],
      "metadata": {
        "colab": {
          "base_uri": "https://localhost:8080/"
        },
        "id": "DbRlshie9K0L",
        "outputId": "4639fd76-36d4-4f1f-a21d-5aa7637f8e13"
      },
      "execution_count": 97,
      "outputs": [
        {
          "output_type": "execute_result",
          "data": {
            "text/plain": [
              "5"
            ]
          },
          "metadata": {},
          "execution_count": 97
        }
      ]
    },
    {
      "cell_type": "code",
      "source": [
        "# 16 출력\n",
        "arr1[1,1,1]"
      ],
      "metadata": {
        "colab": {
          "base_uri": "https://localhost:8080/"
        },
        "id": "i65logPA9UPM",
        "outputId": "0504d21c-a619-4067-abbc-fa9536e963be"
      },
      "execution_count": 99,
      "outputs": [
        {
          "output_type": "execute_result",
          "data": {
            "text/plain": [
              "16"
            ]
          },
          "metadata": {},
          "execution_count": 99
        }
      ]
    },
    {
      "cell_type": "code",
      "source": [
        "arr1 = np.arange(1,10)\n",
        "arr1"
      ],
      "metadata": {
        "colab": {
          "base_uri": "https://localhost:8080/"
        },
        "id": "xBh2WDb-9c1b",
        "outputId": "2359fa3b-c42d-424f-e53e-6983148e8eb8"
      },
      "execution_count": 100,
      "outputs": [
        {
          "output_type": "execute_result",
          "data": {
            "text/plain": [
              "array([1, 2, 3, 4, 5, 6, 7, 8, 9])"
            ]
          },
          "metadata": {},
          "execution_count": 100
        }
      ]
    },
    {
      "cell_type": "code",
      "source": [
        "arr1[0:3]\n",
        "arr1[:3]\n",
        "arr1[3:]"
      ],
      "metadata": {
        "colab": {
          "base_uri": "https://localhost:8080/"
        },
        "id": "lp4ED9FW9gMf",
        "outputId": "bbb25f91-cecf-4eaf-87a9-e4b2c5b0fccf"
      },
      "execution_count": 105,
      "outputs": [
        {
          "output_type": "execute_result",
          "data": {
            "text/plain": [
              "array([], shape=(0, 3), dtype=int64)"
            ]
          },
          "metadata": {},
          "execution_count": 105
        }
      ]
    },
    {
      "cell_type": "code",
      "source": [
        "arr1 = np.arange(1,10).reshape(3,3)\n",
        "arr1"
      ],
      "metadata": {
        "colab": {
          "base_uri": "https://localhost:8080/"
        },
        "id": "XY5DU7kM9q3n",
        "outputId": "ef952cd6-47d0-44be-c46f-dc716999651b"
      },
      "execution_count": 103,
      "outputs": [
        {
          "output_type": "execute_result",
          "data": {
            "text/plain": [
              "array([[1, 2, 3],\n",
              "       [4, 5, 6],\n",
              "       [7, 8, 9]])"
            ]
          },
          "metadata": {},
          "execution_count": 103
        }
      ]
    },
    {
      "cell_type": "code",
      "source": [
        "arr1[:2, :1]"
      ],
      "metadata": {
        "colab": {
          "base_uri": "https://localhost:8080/"
        },
        "id": "O9ffDuCM9huf",
        "outputId": "6976c9e0-c206-44e2-eb84-a8776fe969d1"
      },
      "execution_count": 109,
      "outputs": [
        {
          "output_type": "execute_result",
          "data": {
            "text/plain": [
              "array([[1],\n",
              "       [4]])"
            ]
          },
          "metadata": {},
          "execution_count": 109
        }
      ]
    },
    {
      "cell_type": "code",
      "source": [
        "arr1[1:3,:]"
      ],
      "metadata": {
        "colab": {
          "base_uri": "https://localhost:8080/"
        },
        "id": "-d1eXMCt-IQD",
        "outputId": "6c151ff2-9bbd-4637-c9c1-3e1d4a0f0189"
      },
      "execution_count": 110,
      "outputs": [
        {
          "output_type": "execute_result",
          "data": {
            "text/plain": [
              "array([[4, 5, 6],\n",
              "       [7, 8, 9]])"
            ]
          },
          "metadata": {},
          "execution_count": 110
        }
      ]
    },
    {
      "cell_type": "code",
      "source": [
        "arr1 = np.arange(1,10)\n",
        "arr1"
      ],
      "metadata": {
        "colab": {
          "base_uri": "https://localhost:8080/"
        },
        "id": "AQpXCCM4-YKc",
        "outputId": "7407bb86-e886-4e74-9cc1-ba4f62466823"
      },
      "execution_count": 111,
      "outputs": [
        {
          "output_type": "execute_result",
          "data": {
            "text/plain": [
              "array([1, 2, 3, 4, 5, 6, 7, 8, 9])"
            ]
          },
          "metadata": {},
          "execution_count": 111
        }
      ]
    },
    {
      "cell_type": "code",
      "source": [
        "arr1[arr1 > 5]"
      ],
      "metadata": {
        "colab": {
          "base_uri": "https://localhost:8080/"
        },
        "id": "dVV2sU10-ao0",
        "outputId": "1d6b64d8-24ab-4957-d155-b1eae0e44f76"
      },
      "execution_count": 112,
      "outputs": [
        {
          "output_type": "execute_result",
          "data": {
            "text/plain": [
              "array([6, 7, 8, 9])"
            ]
          },
          "metadata": {},
          "execution_count": 112
        }
      ]
    },
    {
      "cell_type": "markdown",
      "source": [
        "### 데이터 형태 변경"
      ],
      "metadata": {
        "id": "1GdbT6PO-rWT"
      }
    },
    {
      "cell_type": "code",
      "source": [
        "y = np.arange(15).reshape(3,5)\n",
        "y"
      ],
      "metadata": {
        "colab": {
          "base_uri": "https://localhost:8080/"
        },
        "id": "Su2DSNa5-bvu",
        "outputId": "a8912474-33e4-4cc8-d2c1-e5dbaea28b52"
      },
      "execution_count": 115,
      "outputs": [
        {
          "output_type": "execute_result",
          "data": {
            "text/plain": [
              "array([[ 0,  1,  2,  3,  4],\n",
              "       [ 5,  6,  7,  8,  9],\n",
              "       [10, 11, 12, 13, 14]])"
            ]
          },
          "metadata": {},
          "execution_count": 115
        }
      ]
    },
    {
      "cell_type": "code",
      "source": [
        "# 2차원 배열을 1차원 배열로 만들기 flatten()\n",
        "y.flatten()"
      ],
      "metadata": {
        "colab": {
          "base_uri": "https://localhost:8080/"
        },
        "id": "Z3fM1sf_-5rm",
        "outputId": "08e879cb-45da-4235-da9c-bc8966073db0"
      },
      "execution_count": 116,
      "outputs": [
        {
          "output_type": "execute_result",
          "data": {
            "text/plain": [
              "array([ 0,  1,  2,  3,  4,  5,  6,  7,  8,  9, 10, 11, 12, 13, 14])"
            ]
          },
          "metadata": {},
          "execution_count": 116
        }
      ]
    },
    {
      "cell_type": "code",
      "source": [
        "# 2행 3열 = 2 * 3 5개\n",
        "\n",
        "x = np.arange(30).reshape(2,3,5)\n",
        "x"
      ],
      "metadata": {
        "colab": {
          "base_uri": "https://localhost:8080/"
        },
        "id": "26axVw5Q_GYr",
        "outputId": "484b7b63-940e-4f0b-a611-99a7611108a9"
      },
      "execution_count": 119,
      "outputs": [
        {
          "output_type": "execute_result",
          "data": {
            "text/plain": [
              "array([[[ 0,  1,  2,  3,  4],\n",
              "        [ 5,  6,  7,  8,  9],\n",
              "        [10, 11, 12, 13, 14]],\n",
              "\n",
              "       [[15, 16, 17, 18, 19],\n",
              "        [20, 21, 22, 23, 24],\n",
              "        [25, 26, 27, 28, 29]]])"
            ]
          },
          "metadata": {},
          "execution_count": 119
        }
      ]
    },
    {
      "cell_type": "code",
      "source": [
        "x.flatten()"
      ],
      "metadata": {
        "colab": {
          "base_uri": "https://localhost:8080/"
        },
        "id": "lXy7B5vb_JTO",
        "outputId": "df9ed141-cd15-4919-b454-0ae9f866d7ba"
      },
      "execution_count": 120,
      "outputs": [
        {
          "output_type": "execute_result",
          "data": {
            "text/plain": [
              "array([ 0,  1,  2,  3,  4,  5,  6,  7,  8,  9, 10, 11, 12, 13, 14, 15, 16,\n",
              "       17, 18, 19, 20, 21, 22, 23, 24, 25, 26, 27, 28, 29])"
            ]
          },
          "metadata": {},
          "execution_count": 120
        }
      ]
    },
    {
      "cell_type": "markdown",
      "source": [
        "### ndarray 기본 함수\n",
        "- add(), subtract(), multiply(), divide() 기본함수 제공"
      ],
      "metadata": {
        "id": "nNrufMJj_mB9"
      }
    },
    {
      "cell_type": "code",
      "source": [
        "x = np.array([[4,4,4],[8,8,8]])\n",
        "y = np.array([[1,1,1],[2,2,2]])"
      ],
      "metadata": {
        "id": "VPks-gFs_kt1"
      },
      "execution_count": 121,
      "outputs": []
    },
    {
      "cell_type": "code",
      "source": [
        "x + y"
      ],
      "metadata": {
        "colab": {
          "base_uri": "https://localhost:8080/"
        },
        "id": "PmtvoQs8ADAo",
        "outputId": "884c9351-f817-45c7-aacd-9fd7b4e806e8"
      },
      "execution_count": 122,
      "outputs": [
        {
          "output_type": "execute_result",
          "data": {
            "text/plain": [
              "array([[ 5,  5,  5],\n",
              "       [10, 10, 10]])"
            ]
          },
          "metadata": {},
          "execution_count": 122
        }
      ]
    },
    {
      "cell_type": "code",
      "source": [
        "x - y"
      ],
      "metadata": {
        "colab": {
          "base_uri": "https://localhost:8080/"
        },
        "id": "ZWNuurozAJlP",
        "outputId": "7276c76c-f93e-4618-b5cf-d1190335a90a"
      },
      "execution_count": 123,
      "outputs": [
        {
          "output_type": "execute_result",
          "data": {
            "text/plain": [
              "array([[3, 3, 3],\n",
              "       [6, 6, 6]])"
            ]
          },
          "metadata": {},
          "execution_count": 123
        }
      ]
    },
    {
      "cell_type": "code",
      "source": [
        "x * y"
      ],
      "metadata": {
        "colab": {
          "base_uri": "https://localhost:8080/"
        },
        "id": "8gCzeoiyALFm",
        "outputId": "93fb4bda-eff6-4962-e4a1-50870970b625"
      },
      "execution_count": 124,
      "outputs": [
        {
          "output_type": "execute_result",
          "data": {
            "text/plain": [
              "array([[ 4,  4,  4],\n",
              "       [16, 16, 16]])"
            ]
          },
          "metadata": {},
          "execution_count": 124
        }
      ]
    },
    {
      "cell_type": "code",
      "source": [
        "x / y"
      ],
      "metadata": {
        "colab": {
          "base_uri": "https://localhost:8080/"
        },
        "id": "jPlN6CiZARmW",
        "outputId": "f638bbc6-5b71-42db-8247-efb1396f6bd6"
      },
      "execution_count": 125,
      "outputs": [
        {
          "output_type": "execute_result",
          "data": {
            "text/plain": [
              "array([[4., 4., 4.],\n",
              "       [4., 4., 4.]])"
            ]
          },
          "metadata": {},
          "execution_count": 125
        }
      ]
    },
    {
      "cell_type": "code",
      "source": [
        "np.add(x, y)"
      ],
      "metadata": {
        "colab": {
          "base_uri": "https://localhost:8080/"
        },
        "id": "ikR5ZeSwATHU",
        "outputId": "92a76ff8-17a5-47c9-f87c-f15e9bb7a839"
      },
      "execution_count": 126,
      "outputs": [
        {
          "output_type": "execute_result",
          "data": {
            "text/plain": [
              "array([[ 5,  5,  5],\n",
              "       [10, 10, 10]])"
            ]
          },
          "metadata": {},
          "execution_count": 126
        }
      ]
    },
    {
      "cell_type": "code",
      "source": [
        "np.subtract(x, y)"
      ],
      "metadata": {
        "colab": {
          "base_uri": "https://localhost:8080/"
        },
        "id": "_IsCHgPcAbqO",
        "outputId": "0d591169-3aa6-4e5b-fc37-9c85de252443"
      },
      "execution_count": 127,
      "outputs": [
        {
          "output_type": "execute_result",
          "data": {
            "text/plain": [
              "array([[3, 3, 3],\n",
              "       [6, 6, 6]])"
            ]
          },
          "metadata": {},
          "execution_count": 127
        }
      ]
    },
    {
      "cell_type": "code",
      "source": [
        "np.multiply(x, y)"
      ],
      "metadata": {
        "colab": {
          "base_uri": "https://localhost:8080/"
        },
        "id": "futoMTGIAeDv",
        "outputId": "75d18e83-9e50-45dd-9bf1-52c73069ddf8"
      },
      "execution_count": 128,
      "outputs": [
        {
          "output_type": "execute_result",
          "data": {
            "text/plain": [
              "array([[ 4,  4,  4],\n",
              "       [16, 16, 16]])"
            ]
          },
          "metadata": {},
          "execution_count": 128
        }
      ]
    },
    {
      "cell_type": "code",
      "source": [
        "np.divide(x, y)"
      ],
      "metadata": {
        "colab": {
          "base_uri": "https://localhost:8080/"
        },
        "id": "MPyXnaZ6AgOc",
        "outputId": "ca008105-3f4e-4e5b-8348-f825fb0446d6"
      },
      "execution_count": 129,
      "outputs": [
        {
          "output_type": "execute_result",
          "data": {
            "text/plain": [
              "array([[4., 4., 4.],\n",
              "       [4., 4., 4.]])"
            ]
          },
          "metadata": {},
          "execution_count": 129
        }
      ]
    },
    {
      "cell_type": "code",
      "source": [
        "x= np.random.rand(15)\n",
        "x"
      ],
      "metadata": {
        "colab": {
          "base_uri": "https://localhost:8080/"
        },
        "id": "7KPVQ9p6AinK",
        "outputId": "4310828f-9a0e-4dfc-a4b2-d6275782eb02"
      },
      "execution_count": 142,
      "outputs": [
        {
          "output_type": "execute_result",
          "data": {
            "text/plain": [
              "array([0.77728353, 0.42874906, 0.37275873, 0.88676377, 0.64922937,\n",
              "       0.95079259, 0.71284707, 0.51288007, 0.82773245, 0.14276072,\n",
              "       0.267593  , 0.23751119, 0.72426842, 0.25597802, 0.3711539 ])"
            ]
          },
          "metadata": {},
          "execution_count": 142
        }
      ]
    },
    {
      "cell_type": "code",
      "source": [
        "x.mean()"
      ],
      "metadata": {
        "colab": {
          "base_uri": "https://localhost:8080/"
        },
        "id": "Oyejj62zAyd_",
        "outputId": "59c39825-c3f2-4e97-a95d-5e60cbe61e63"
      },
      "execution_count": 140,
      "outputs": [
        {
          "output_type": "execute_result",
          "data": {
            "text/plain": [
              "0.4560687644171807"
            ]
          },
          "metadata": {},
          "execution_count": 140
        }
      ]
    },
    {
      "cell_type": "code",
      "source": [
        "# 최대값의 인덱스\n",
        "x.argmax()"
      ],
      "metadata": {
        "colab": {
          "base_uri": "https://localhost:8080/"
        },
        "id": "ZqxTIigbA6Ng",
        "outputId": "adb1e921-e618-4d94-8f03-448ad450a705"
      },
      "execution_count": 145,
      "outputs": [
        {
          "output_type": "execute_result",
          "data": {
            "text/plain": [
              "5"
            ]
          },
          "metadata": {},
          "execution_count": 145
        }
      ]
    },
    {
      "cell_type": "code",
      "source": [
        "x.std()"
      ],
      "metadata": {
        "colab": {
          "base_uri": "https://localhost:8080/"
        },
        "id": "RbFnECC6BNZr",
        "outputId": "4a39bae7-7280-45b3-daa1-50614926c79e"
      },
      "execution_count": 146,
      "outputs": [
        {
          "output_type": "execute_result",
          "data": {
            "text/plain": [
              "0.25528967516647144"
            ]
          },
          "metadata": {},
          "execution_count": 146
        }
      ]
    },
    {
      "cell_type": "code",
      "source": [
        "x.sum()"
      ],
      "metadata": {
        "colab": {
          "base_uri": "https://localhost:8080/"
        },
        "id": "kFEOMSNKBRM-",
        "outputId": "7c7c9aeb-acd5-4757-e938-35edcc76a549"
      },
      "execution_count": 147,
      "outputs": [
        {
          "output_type": "execute_result",
          "data": {
            "text/plain": [
              "8.118301875254673"
            ]
          },
          "metadata": {},
          "execution_count": 147
        }
      ]
    },
    {
      "cell_type": "code",
      "source": [
        "# 이전 요소 덧셈합\n",
        "x.cumsum()"
      ],
      "metadata": {
        "colab": {
          "base_uri": "https://localhost:8080/"
        },
        "id": "0aZJjRGeBXkW",
        "outputId": "d935e87e-451f-4949-a6fd-6396b2948319"
      },
      "execution_count": 148,
      "outputs": [
        {
          "output_type": "execute_result",
          "data": {
            "text/plain": [
              "array([0.77728353, 1.2060326 , 1.57879132, 2.46555509, 3.11478446,\n",
              "       4.06557705, 4.77842411, 5.29130418, 6.11903663, 6.26179735,\n",
              "       6.52939035, 6.76690154, 7.49116995, 7.74714797, 8.11830188])"
            ]
          },
          "metadata": {},
          "execution_count": 148
        }
      ]
    },
    {
      "cell_type": "code",
      "source": [],
      "metadata": {
        "id": "VLKx1KGSBcxX"
      },
      "execution_count": null,
      "outputs": []
    }
  ]
}