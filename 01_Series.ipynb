{
  "cells": [
    {
      "cell_type": "markdown",
      "metadata": {
        "id": "view-in-github",
        "colab_type": "text"
      },
      "source": [
        "<a href=\"https://colab.research.google.com/github/MANDOJU1/pandas/blob/main/01_Series.ipynb\" target=\"_parent\"><img src=\"https://colab.research.google.com/assets/colab-badge.svg\" alt=\"Open In Colab\"/></a>"
      ]
    },
    {
      "cell_type": "markdown",
      "id": "51dba0b9",
      "metadata": {
        "id": "51dba0b9"
      },
      "source": [
        "### [참고] <a href=\"https://pandas.pydata.org/Pandas_Cheat_Sheet.pdf\">Pandas Cheat Sheet</a>\n",
        "\n",
        "## 데이터 타입"
      ]
    },
    {
      "cell_type": "markdown",
      "id": "068e59f7",
      "metadata": {
        "id": "068e59f7"
      },
      "source": [
        "### 1.Series(https://pandas.pydata.org/docs/reference/api/pandas.Series.html)\n",
        "\n",
        "<img src=\"https://bites-data.s3.us-east-2.amazonaws.com/series_spreadsheet.png\" width=\"300\" height=\"200\">"
      ]
    },
    {
      "cell_type": "code",
      "execution_count": null,
      "id": "d57f56be",
      "metadata": {
        "id": "d57f56be"
      },
      "outputs": [],
      "source": [
        "import pandas as pd\n",
        "import numpy as np"
      ]
    },
    {
      "cell_type": "markdown",
      "id": "8b356858",
      "metadata": {
        "id": "8b356858"
      },
      "source": [
        "### 생성\n",
        "#### 1) 리스트"
      ]
    },
    {
      "cell_type": "code",
      "execution_count": null,
      "id": "4bdf91ab",
      "metadata": {
        "id": "4bdf91ab"
      },
      "outputs": [],
      "source": [
        "# 리스트에서 시리즈 생성"
      ]
    },
    {
      "cell_type": "code",
      "execution_count": null,
      "id": "91ce7eb2",
      "metadata": {
        "id": "91ce7eb2"
      },
      "outputs": [],
      "source": [
        "series = pd.Series([70,60,90])"
      ]
    },
    {
      "cell_type": "code",
      "source": [
        "# idnex 를 지정하지 않는다면 자동으로 0부터 시작\n",
        "\n",
        "series"
      ],
      "metadata": {
        "colab": {
          "base_uri": "https://localhost:8080/"
        },
        "id": "l7zcJyS7nFeO",
        "outputId": "73f70ebb-6680-41e7-9c9f-c136367a81b4"
      },
      "id": "l7zcJyS7nFeO",
      "execution_count": null,
      "outputs": [
        {
          "output_type": "execute_result",
          "data": {
            "text/plain": [
              "0    70\n",
              "1    60\n",
              "2    90\n",
              "dtype: int64"
            ]
          },
          "metadata": {},
          "execution_count": 3
        }
      ]
    },
    {
      "cell_type": "markdown",
      "id": "2476fcbd",
      "metadata": {
        "id": "2476fcbd"
      },
      "source": [
        "#### 2) 딕셔너리"
      ]
    },
    {
      "cell_type": "code",
      "execution_count": null,
      "id": "b2ac15a0",
      "metadata": {
        "id": "b2ac15a0"
      },
      "outputs": [],
      "source": [
        "series = pd.Series({\"a\":1, \"b\":2,\"c\":3})"
      ]
    },
    {
      "cell_type": "code",
      "execution_count": null,
      "id": "de35d1ee",
      "metadata": {
        "id": "de35d1ee",
        "colab": {
          "base_uri": "https://localhost:8080/"
        },
        "outputId": "0f81a275-dfe2-4e8d-c036-1284615101e2"
      },
      "outputs": [
        {
          "output_type": "execute_result",
          "data": {
            "text/plain": [
              "0    70\n",
              "1    60\n",
              "2    90\n",
              "dtype: int64"
            ]
          },
          "metadata": {},
          "execution_count": 4
        }
      ],
      "source": [
        "# 딕셔너리의 경우에는 key 값을 인덱스로 사용\n",
        "\n",
        "series"
      ]
    },
    {
      "cell_type": "code",
      "execution_count": null,
      "id": "973dba0d",
      "metadata": {
        "id": "973dba0d"
      },
      "outputs": [],
      "source": [
        "series = pd.Series([70,60,90],index=[\"국어\",\"영어\",\"수학\"])"
      ]
    },
    {
      "cell_type": "code",
      "execution_count": null,
      "id": "d5a05e92",
      "metadata": {
        "id": "d5a05e92",
        "colab": {
          "base_uri": "https://localhost:8080/"
        },
        "outputId": "ba9d75bb-5efe-4396-c8a0-5eebfc4290f4"
      },
      "outputs": [
        {
          "output_type": "execute_result",
          "data": {
            "text/plain": [
              "국어    70\n",
              "영어    60\n",
              "수학    90\n",
              "dtype: int64"
            ]
          },
          "metadata": {},
          "execution_count": 17
        }
      ],
      "source": [
        "series"
      ]
    },
    {
      "cell_type": "markdown",
      "id": "8c2630c2",
      "metadata": {
        "id": "8c2630c2"
      },
      "source": [
        "#### 3) ndarray"
      ]
    },
    {
      "cell_type": "code",
      "execution_count": null,
      "id": "66738ee9",
      "metadata": {
        "id": "66738ee9",
        "colab": {
          "base_uri": "https://localhost:8080/"
        },
        "outputId": "75e8d5e9-c7e5-4e85-ac12-488baa1c6f46"
      },
      "outputs": [
        {
          "output_type": "execute_result",
          "data": {
            "text/plain": [
              "a   -0.532071\n",
              "b   -0.634295\n",
              "c    0.812569\n",
              "d    1.777493\n",
              "dtype: float64"
            ]
          },
          "metadata": {},
          "execution_count": 18
        }
      ],
      "source": [
        "series = pd.Series(np.random.randn(4), index=list(\"abcd\"))\n",
        "\n",
        "series"
      ]
    },
    {
      "cell_type": "markdown",
      "id": "63a02c91",
      "metadata": {
        "id": "63a02c91"
      },
      "source": [
        "#### 4) DataFrame 이용"
      ]
    },
    {
      "cell_type": "code",
      "execution_count": null,
      "id": "339c0c56",
      "metadata": {
        "id": "339c0c56"
      },
      "outputs": [],
      "source": [
        "df = pd.DataFrame({\"a\":[1,2,3,4], \"b\":[5,6,7,8]})"
      ]
    },
    {
      "cell_type": "code",
      "execution_count": null,
      "id": "9680f018",
      "metadata": {
        "id": "9680f018",
        "colab": {
          "base_uri": "https://localhost:8080/",
          "height": 175
        },
        "outputId": "978705d1-03e4-4665-9c42-6f2ba9b084fd"
      },
      "outputs": [
        {
          "output_type": "execute_result",
          "data": {
            "text/plain": [
              "   a  b\n",
              "0  1  5\n",
              "1  2  6\n",
              "2  3  7\n",
              "3  4  8"
            ],
            "text/html": [
              "\n",
              "  <div id=\"df-07f2757a-9860-42cb-a9ce-63a0aa96bbf4\" class=\"colab-df-container\">\n",
              "    <div>\n",
              "<style scoped>\n",
              "    .dataframe tbody tr th:only-of-type {\n",
              "        vertical-align: middle;\n",
              "    }\n",
              "\n",
              "    .dataframe tbody tr th {\n",
              "        vertical-align: top;\n",
              "    }\n",
              "\n",
              "    .dataframe thead th {\n",
              "        text-align: right;\n",
              "    }\n",
              "</style>\n",
              "<table border=\"1\" class=\"dataframe\">\n",
              "  <thead>\n",
              "    <tr style=\"text-align: right;\">\n",
              "      <th></th>\n",
              "      <th>a</th>\n",
              "      <th>b</th>\n",
              "    </tr>\n",
              "  </thead>\n",
              "  <tbody>\n",
              "    <tr>\n",
              "      <th>0</th>\n",
              "      <td>1</td>\n",
              "      <td>5</td>\n",
              "    </tr>\n",
              "    <tr>\n",
              "      <th>1</th>\n",
              "      <td>2</td>\n",
              "      <td>6</td>\n",
              "    </tr>\n",
              "    <tr>\n",
              "      <th>2</th>\n",
              "      <td>3</td>\n",
              "      <td>7</td>\n",
              "    </tr>\n",
              "    <tr>\n",
              "      <th>3</th>\n",
              "      <td>4</td>\n",
              "      <td>8</td>\n",
              "    </tr>\n",
              "  </tbody>\n",
              "</table>\n",
              "</div>\n",
              "    <div class=\"colab-df-buttons\">\n",
              "\n",
              "  <div class=\"colab-df-container\">\n",
              "    <button class=\"colab-df-convert\" onclick=\"convertToInteractive('df-07f2757a-9860-42cb-a9ce-63a0aa96bbf4')\"\n",
              "            title=\"Convert this dataframe to an interactive table.\"\n",
              "            style=\"display:none;\">\n",
              "\n",
              "  <svg xmlns=\"http://www.w3.org/2000/svg\" height=\"24px\" viewBox=\"0 -960 960 960\">\n",
              "    <path d=\"M120-120v-720h720v720H120Zm60-500h600v-160H180v160Zm220 220h160v-160H400v160Zm0 220h160v-160H400v160ZM180-400h160v-160H180v160Zm440 0h160v-160H620v160ZM180-180h160v-160H180v160Zm440 0h160v-160H620v160Z\"/>\n",
              "  </svg>\n",
              "    </button>\n",
              "\n",
              "  <style>\n",
              "    .colab-df-container {\n",
              "      display:flex;\n",
              "      gap: 12px;\n",
              "    }\n",
              "\n",
              "    .colab-df-convert {\n",
              "      background-color: #E8F0FE;\n",
              "      border: none;\n",
              "      border-radius: 50%;\n",
              "      cursor: pointer;\n",
              "      display: none;\n",
              "      fill: #1967D2;\n",
              "      height: 32px;\n",
              "      padding: 0 0 0 0;\n",
              "      width: 32px;\n",
              "    }\n",
              "\n",
              "    .colab-df-convert:hover {\n",
              "      background-color: #E2EBFA;\n",
              "      box-shadow: 0px 1px 2px rgba(60, 64, 67, 0.3), 0px 1px 3px 1px rgba(60, 64, 67, 0.15);\n",
              "      fill: #174EA6;\n",
              "    }\n",
              "\n",
              "    .colab-df-buttons div {\n",
              "      margin-bottom: 4px;\n",
              "    }\n",
              "\n",
              "    [theme=dark] .colab-df-convert {\n",
              "      background-color: #3B4455;\n",
              "      fill: #D2E3FC;\n",
              "    }\n",
              "\n",
              "    [theme=dark] .colab-df-convert:hover {\n",
              "      background-color: #434B5C;\n",
              "      box-shadow: 0px 1px 3px 1px rgba(0, 0, 0, 0.15);\n",
              "      filter: drop-shadow(0px 1px 2px rgba(0, 0, 0, 0.3));\n",
              "      fill: #FFFFFF;\n",
              "    }\n",
              "  </style>\n",
              "\n",
              "    <script>\n",
              "      const buttonEl =\n",
              "        document.querySelector('#df-07f2757a-9860-42cb-a9ce-63a0aa96bbf4 button.colab-df-convert');\n",
              "      buttonEl.style.display =\n",
              "        google.colab.kernel.accessAllowed ? 'block' : 'none';\n",
              "\n",
              "      async function convertToInteractive(key) {\n",
              "        const element = document.querySelector('#df-07f2757a-9860-42cb-a9ce-63a0aa96bbf4');\n",
              "        const dataTable =\n",
              "          await google.colab.kernel.invokeFunction('convertToInteractive',\n",
              "                                                    [key], {});\n",
              "        if (!dataTable) return;\n",
              "\n",
              "        const docLinkHtml = 'Like what you see? Visit the ' +\n",
              "          '<a target=\"_blank\" href=https://colab.research.google.com/notebooks/data_table.ipynb>data table notebook</a>'\n",
              "          + ' to learn more about interactive tables.';\n",
              "        element.innerHTML = '';\n",
              "        dataTable['output_type'] = 'display_data';\n",
              "        await google.colab.output.renderOutput(dataTable, element);\n",
              "        const docLink = document.createElement('div');\n",
              "        docLink.innerHTML = docLinkHtml;\n",
              "        element.appendChild(docLink);\n",
              "      }\n",
              "    </script>\n",
              "  </div>\n",
              "\n",
              "\n",
              "<div id=\"df-62149af7-9d82-4e05-a3e1-317a573a0508\">\n",
              "  <button class=\"colab-df-quickchart\" onclick=\"quickchart('df-62149af7-9d82-4e05-a3e1-317a573a0508')\"\n",
              "            title=\"Suggest charts\"\n",
              "            style=\"display:none;\">\n",
              "\n",
              "<svg xmlns=\"http://www.w3.org/2000/svg\" height=\"24px\"viewBox=\"0 0 24 24\"\n",
              "     width=\"24px\">\n",
              "    <g>\n",
              "        <path d=\"M19 3H5c-1.1 0-2 .9-2 2v14c0 1.1.9 2 2 2h14c1.1 0 2-.9 2-2V5c0-1.1-.9-2-2-2zM9 17H7v-7h2v7zm4 0h-2V7h2v10zm4 0h-2v-4h2v4z\"/>\n",
              "    </g>\n",
              "</svg>\n",
              "  </button>\n",
              "\n",
              "<style>\n",
              "  .colab-df-quickchart {\n",
              "      --bg-color: #E8F0FE;\n",
              "      --fill-color: #1967D2;\n",
              "      --hover-bg-color: #E2EBFA;\n",
              "      --hover-fill-color: #174EA6;\n",
              "      --disabled-fill-color: #AAA;\n",
              "      --disabled-bg-color: #DDD;\n",
              "  }\n",
              "\n",
              "  [theme=dark] .colab-df-quickchart {\n",
              "      --bg-color: #3B4455;\n",
              "      --fill-color: #D2E3FC;\n",
              "      --hover-bg-color: #434B5C;\n",
              "      --hover-fill-color: #FFFFFF;\n",
              "      --disabled-bg-color: #3B4455;\n",
              "      --disabled-fill-color: #666;\n",
              "  }\n",
              "\n",
              "  .colab-df-quickchart {\n",
              "    background-color: var(--bg-color);\n",
              "    border: none;\n",
              "    border-radius: 50%;\n",
              "    cursor: pointer;\n",
              "    display: none;\n",
              "    fill: var(--fill-color);\n",
              "    height: 32px;\n",
              "    padding: 0;\n",
              "    width: 32px;\n",
              "  }\n",
              "\n",
              "  .colab-df-quickchart:hover {\n",
              "    background-color: var(--hover-bg-color);\n",
              "    box-shadow: 0 1px 2px rgba(60, 64, 67, 0.3), 0 1px 3px 1px rgba(60, 64, 67, 0.15);\n",
              "    fill: var(--button-hover-fill-color);\n",
              "  }\n",
              "\n",
              "  .colab-df-quickchart-complete:disabled,\n",
              "  .colab-df-quickchart-complete:disabled:hover {\n",
              "    background-color: var(--disabled-bg-color);\n",
              "    fill: var(--disabled-fill-color);\n",
              "    box-shadow: none;\n",
              "  }\n",
              "\n",
              "  .colab-df-spinner {\n",
              "    border: 2px solid var(--fill-color);\n",
              "    border-color: transparent;\n",
              "    border-bottom-color: var(--fill-color);\n",
              "    animation:\n",
              "      spin 1s steps(1) infinite;\n",
              "  }\n",
              "\n",
              "  @keyframes spin {\n",
              "    0% {\n",
              "      border-color: transparent;\n",
              "      border-bottom-color: var(--fill-color);\n",
              "      border-left-color: var(--fill-color);\n",
              "    }\n",
              "    20% {\n",
              "      border-color: transparent;\n",
              "      border-left-color: var(--fill-color);\n",
              "      border-top-color: var(--fill-color);\n",
              "    }\n",
              "    30% {\n",
              "      border-color: transparent;\n",
              "      border-left-color: var(--fill-color);\n",
              "      border-top-color: var(--fill-color);\n",
              "      border-right-color: var(--fill-color);\n",
              "    }\n",
              "    40% {\n",
              "      border-color: transparent;\n",
              "      border-right-color: var(--fill-color);\n",
              "      border-top-color: var(--fill-color);\n",
              "    }\n",
              "    60% {\n",
              "      border-color: transparent;\n",
              "      border-right-color: var(--fill-color);\n",
              "    }\n",
              "    80% {\n",
              "      border-color: transparent;\n",
              "      border-right-color: var(--fill-color);\n",
              "      border-bottom-color: var(--fill-color);\n",
              "    }\n",
              "    90% {\n",
              "      border-color: transparent;\n",
              "      border-bottom-color: var(--fill-color);\n",
              "    }\n",
              "  }\n",
              "</style>\n",
              "\n",
              "  <script>\n",
              "    async function quickchart(key) {\n",
              "      const quickchartButtonEl =\n",
              "        document.querySelector('#' + key + ' button');\n",
              "      quickchartButtonEl.disabled = true;  // To prevent multiple clicks.\n",
              "      quickchartButtonEl.classList.add('colab-df-spinner');\n",
              "      try {\n",
              "        const charts = await google.colab.kernel.invokeFunction(\n",
              "            'suggestCharts', [key], {});\n",
              "      } catch (error) {\n",
              "        console.error('Error during call to suggestCharts:', error);\n",
              "      }\n",
              "      quickchartButtonEl.classList.remove('colab-df-spinner');\n",
              "      quickchartButtonEl.classList.add('colab-df-quickchart-complete');\n",
              "    }\n",
              "    (() => {\n",
              "      let quickchartButtonEl =\n",
              "        document.querySelector('#df-62149af7-9d82-4e05-a3e1-317a573a0508 button');\n",
              "      quickchartButtonEl.style.display =\n",
              "        google.colab.kernel.accessAllowed ? 'block' : 'none';\n",
              "    })();\n",
              "  </script>\n",
              "</div>\n",
              "\n",
              "  <div id=\"id_93743ff8-0669-425c-8091-cdbcdbb44669\">\n",
              "    <style>\n",
              "      .colab-df-generate {\n",
              "        background-color: #E8F0FE;\n",
              "        border: none;\n",
              "        border-radius: 50%;\n",
              "        cursor: pointer;\n",
              "        display: none;\n",
              "        fill: #1967D2;\n",
              "        height: 32px;\n",
              "        padding: 0 0 0 0;\n",
              "        width: 32px;\n",
              "      }\n",
              "\n",
              "      .colab-df-generate:hover {\n",
              "        background-color: #E2EBFA;\n",
              "        box-shadow: 0px 1px 2px rgba(60, 64, 67, 0.3), 0px 1px 3px 1px rgba(60, 64, 67, 0.15);\n",
              "        fill: #174EA6;\n",
              "      }\n",
              "\n",
              "      [theme=dark] .colab-df-generate {\n",
              "        background-color: #3B4455;\n",
              "        fill: #D2E3FC;\n",
              "      }\n",
              "\n",
              "      [theme=dark] .colab-df-generate:hover {\n",
              "        background-color: #434B5C;\n",
              "        box-shadow: 0px 1px 3px 1px rgba(0, 0, 0, 0.15);\n",
              "        filter: drop-shadow(0px 1px 2px rgba(0, 0, 0, 0.3));\n",
              "        fill: #FFFFFF;\n",
              "      }\n",
              "    </style>\n",
              "    <button class=\"colab-df-generate\" onclick=\"generateWithVariable('df')\"\n",
              "            title=\"Generate code using this dataframe.\"\n",
              "            style=\"display:none;\">\n",
              "\n",
              "  <svg xmlns=\"http://www.w3.org/2000/svg\" height=\"24px\"viewBox=\"0 0 24 24\"\n",
              "       width=\"24px\">\n",
              "    <path d=\"M7,19H8.4L18.45,9,17,7.55,7,17.6ZM5,21V16.75L18.45,3.32a2,2,0,0,1,2.83,0l1.4,1.43a1.91,1.91,0,0,1,.58,1.4,1.91,1.91,0,0,1-.58,1.4L9.25,21ZM18.45,9,17,7.55Zm-12,3A5.31,5.31,0,0,0,4.9,8.1,5.31,5.31,0,0,0,1,6.5,5.31,5.31,0,0,0,4.9,4.9,5.31,5.31,0,0,0,6.5,1,5.31,5.31,0,0,0,8.1,4.9,5.31,5.31,0,0,0,12,6.5,5.46,5.46,0,0,0,6.5,12Z\"/>\n",
              "  </svg>\n",
              "    </button>\n",
              "    <script>\n",
              "      (() => {\n",
              "      const buttonEl =\n",
              "        document.querySelector('#id_93743ff8-0669-425c-8091-cdbcdbb44669 button.colab-df-generate');\n",
              "      buttonEl.style.display =\n",
              "        google.colab.kernel.accessAllowed ? 'block' : 'none';\n",
              "\n",
              "      buttonEl.onclick = () => {\n",
              "        google.colab.notebook.generateWithVariable('df');\n",
              "      }\n",
              "      })();\n",
              "    </script>\n",
              "  </div>\n",
              "\n",
              "    </div>\n",
              "  </div>\n"
            ],
            "application/vnd.google.colaboratory.intrinsic+json": {
              "type": "dataframe",
              "variable_name": "df",
              "summary": "{\n  \"name\": \"df\",\n  \"rows\": 4,\n  \"fields\": [\n    {\n      \"column\": \"a\",\n      \"properties\": {\n        \"dtype\": \"number\",\n        \"std\": 1,\n        \"min\": 1,\n        \"max\": 4,\n        \"num_unique_values\": 4,\n        \"samples\": [\n          2,\n          4,\n          1\n        ],\n        \"semantic_type\": \"\",\n        \"description\": \"\"\n      }\n    },\n    {\n      \"column\": \"b\",\n      \"properties\": {\n        \"dtype\": \"number\",\n        \"std\": 1,\n        \"min\": 5,\n        \"max\": 8,\n        \"num_unique_values\": 4,\n        \"samples\": [\n          6,\n          8,\n          5\n        ],\n        \"semantic_type\": \"\",\n        \"description\": \"\"\n      }\n    }\n  ]\n}"
            }
          },
          "metadata": {},
          "execution_count": 14
        }
      ],
      "source": [
        "df"
      ]
    },
    {
      "cell_type": "code",
      "execution_count": null,
      "id": "9515f877",
      "metadata": {
        "id": "9515f877",
        "colab": {
          "base_uri": "https://localhost:8080/"
        },
        "outputId": "b09e42ca-dcf5-4dd3-e0ac-a6d42f0b4e13"
      },
      "outputs": [
        {
          "output_type": "execute_result",
          "data": {
            "text/plain": [
              "0    1\n",
              "1    2\n",
              "2    3\n",
              "3    4\n",
              "Name: a, dtype: int64"
            ]
          },
          "metadata": {},
          "execution_count": 19
        }
      ],
      "source": [
        "series = pd.Series(df[\"a\"])\n",
        "series"
      ]
    },
    {
      "cell_type": "markdown",
      "id": "0bea210c",
      "metadata": {
        "id": "0bea210c"
      },
      "source": [
        "### 조회"
      ]
    },
    {
      "cell_type": "code",
      "execution_count": null,
      "id": "15c56990",
      "metadata": {
        "id": "15c56990"
      },
      "outputs": [],
      "source": [
        "series = pd.Series([70,60,90],index=[\"국어\",\"영어\",\"수학\"])"
      ]
    },
    {
      "cell_type": "code",
      "execution_count": null,
      "id": "fd271b9e",
      "metadata": {
        "id": "fd271b9e",
        "colab": {
          "base_uri": "https://localhost:8080/"
        },
        "outputId": "2b19691e-8af9-4c6e-d6ca-32e4e20c844d"
      },
      "outputs": [
        {
          "output_type": "execute_result",
          "data": {
            "text/plain": [
              "Index(['국어', '영어', '수학'], dtype='object')"
            ]
          },
          "metadata": {},
          "execution_count": 29
        }
      ],
      "source": [
        "# 인덱스 조회\n",
        "\n",
        "series.index"
      ]
    },
    {
      "cell_type": "code",
      "execution_count": null,
      "id": "997c987c",
      "metadata": {
        "id": "997c987c",
        "colab": {
          "base_uri": "https://localhost:8080/"
        },
        "outputId": "7d65fa3d-cff0-45f6-8e4c-39053aadbbdb"
      },
      "outputs": [
        {
          "output_type": "execute_result",
          "data": {
            "text/plain": [
              "array([70, 60, 90])"
            ]
          },
          "metadata": {},
          "execution_count": 30
        }
      ],
      "source": [
        "# value 조회\n",
        "series.values"
      ]
    },
    {
      "cell_type": "code",
      "execution_count": null,
      "id": "2491b80a",
      "metadata": {
        "id": "2491b80a",
        "colab": {
          "base_uri": "https://localhost:8080/",
          "height": 35
        },
        "outputId": "f251baa0-dd08-45e4-d22e-498e8565d905"
      },
      "outputs": [
        {
          "output_type": "execute_result",
          "data": {
            "text/plain": [
              "'점수'"
            ],
            "application/vnd.google.colaboratory.intrinsic+json": {
              "type": "string"
            }
          },
          "metadata": {},
          "execution_count": 33
        }
      ],
      "source": [
        "# name 조회\n",
        "\n",
        "series.name # 'a'"
      ]
    },
    {
      "cell_type": "code",
      "execution_count": null,
      "id": "18d31ab8",
      "metadata": {
        "id": "18d31ab8"
      },
      "outputs": [],
      "source": [
        "# name 수정\n",
        "series = series.rename(\"점수\")"
      ]
    },
    {
      "cell_type": "code",
      "execution_count": null,
      "id": "e5bd242f",
      "metadata": {
        "id": "e5bd242f",
        "colab": {
          "base_uri": "https://localhost:8080/"
        },
        "outputId": "43cb18ca-c544-44ca-a21e-0975d8225a27"
      },
      "outputs": [
        {
          "output_type": "execute_result",
          "data": {
            "text/plain": [
              "국어    70\n",
              "영어    60\n",
              "수학    90\n",
              "Name: 점수, dtype: int64"
            ]
          },
          "metadata": {},
          "execution_count": 35
        }
      ],
      "source": [
        "series"
      ]
    },
    {
      "cell_type": "markdown",
      "id": "364f6698",
      "metadata": {
        "id": "364f6698"
      },
      "source": [
        "- 인덱싱 가능 (인덱스 번호 혹은 라벨명)"
      ]
    },
    {
      "cell_type": "code",
      "execution_count": null,
      "id": "3a0fbcde",
      "metadata": {
        "id": "3a0fbcde",
        "colab": {
          "base_uri": "https://localhost:8080/"
        },
        "outputId": "915776ef-58ff-49f2-fb47-c19bf632ac12"
      },
      "outputs": [
        {
          "output_type": "execute_result",
          "data": {
            "text/plain": [
              "70"
            ]
          },
          "metadata": {},
          "execution_count": 36
        }
      ],
      "source": [
        "series[0]"
      ]
    },
    {
      "cell_type": "code",
      "execution_count": null,
      "id": "68506dc1",
      "metadata": {
        "id": "68506dc1",
        "colab": {
          "base_uri": "https://localhost:8080/"
        },
        "outputId": "e50c96d7-b6bc-46cf-840c-7effe973b3ad"
      },
      "outputs": [
        {
          "output_type": "execute_result",
          "data": {
            "text/plain": [
              "70"
            ]
          },
          "metadata": {},
          "execution_count": 40
        }
      ],
      "source": [
        "series[\"국어\"]"
      ]
    },
    {
      "cell_type": "code",
      "execution_count": null,
      "id": "e661b4be",
      "metadata": {
        "id": "e661b4be",
        "colab": {
          "base_uri": "https://localhost:8080/"
        },
        "outputId": "1becd2ca-643b-4249-930e-e66d1522ae49"
      },
      "outputs": [
        {
          "output_type": "execute_result",
          "data": {
            "text/plain": [
              "국어    70\n",
              "수학    90\n",
              "Name: 점수, dtype: int64"
            ]
          },
          "metadata": {},
          "execution_count": 39
        }
      ],
      "source": [
        "# 0, 2 조회\n",
        "\n",
        "# series[0:2] : 0 ~ 1 값\n",
        "series[[0,2]]"
      ]
    },
    {
      "cell_type": "markdown",
      "id": "9a08835a",
      "metadata": {
        "id": "9a08835a"
      },
      "source": [
        "- 전체 구조 파악"
      ]
    },
    {
      "cell_type": "code",
      "execution_count": null,
      "id": "5feb3da7",
      "metadata": {
        "id": "5feb3da7",
        "colab": {
          "base_uri": "https://localhost:8080/"
        },
        "outputId": "0c51a1b4-c316-4db6-e0fa-81812cc245f9"
      },
      "outputs": [
        {
          "output_type": "execute_result",
          "data": {
            "text/plain": [
              "(3,)"
            ]
          },
          "metadata": {},
          "execution_count": 41
        }
      ],
      "source": [
        "series.shape"
      ]
    },
    {
      "cell_type": "code",
      "execution_count": null,
      "id": "e1263cf0",
      "metadata": {
        "id": "e1263cf0",
        "colab": {
          "base_uri": "https://localhost:8080/"
        },
        "outputId": "e64b31ee-32d0-4550-9403-5707ade0acac"
      },
      "outputs": [
        {
          "output_type": "execute_result",
          "data": {
            "text/plain": [
              "국어    70\n",
              "영어    60\n",
              "수학    90\n",
              "Name: 점수, dtype: int64"
            ]
          },
          "metadata": {},
          "execution_count": 42
        }
      ],
      "source": [
        "# head() : 앞 쪽에서 데이터 5(행)개 가져오기\n",
        "series.head()"
      ]
    },
    {
      "cell_type": "code",
      "execution_count": null,
      "id": "816e5d40",
      "metadata": {
        "id": "816e5d40",
        "colab": {
          "base_uri": "https://localhost:8080/"
        },
        "outputId": "15653810-85c1-40c9-a19e-f50cee57d3b3"
      },
      "outputs": [
        {
          "output_type": "execute_result",
          "data": {
            "text/plain": [
              "국어    70\n",
              "영어    60\n",
              "Name: 점수, dtype: int64"
            ]
          },
          "metadata": {},
          "execution_count": 43
        }
      ],
      "source": [
        "series.head(2)"
      ]
    },
    {
      "cell_type": "code",
      "execution_count": null,
      "id": "fb3d876f",
      "metadata": {
        "id": "fb3d876f",
        "colab": {
          "base_uri": "https://localhost:8080/"
        },
        "outputId": "24a90f54-731d-4ecd-b6fb-1549cbccbeb3"
      },
      "outputs": [
        {
          "output_type": "execute_result",
          "data": {
            "text/plain": [
              "국어    70\n",
              "영어    60\n",
              "수학    90\n",
              "Name: 점수, dtype: int64"
            ]
          },
          "metadata": {},
          "execution_count": 44
        }
      ],
      "source": [
        "# tail() : 마지막에서 5개 가져오기\n",
        "\n",
        "series.tail()"
      ]
    },
    {
      "cell_type": "code",
      "execution_count": null,
      "id": "285bc5b3",
      "metadata": {
        "id": "285bc5b3",
        "colab": {
          "base_uri": "https://localhost:8080/"
        },
        "outputId": "488a90c0-d1c2-4fb1-9377-adab04341ee8"
      },
      "outputs": [
        {
          "output_type": "execute_result",
          "data": {
            "text/plain": [
              "영어    60\n",
              "수학    90\n",
              "Name: 점수, dtype: int64"
            ]
          },
          "metadata": {},
          "execution_count": 45
        }
      ],
      "source": [
        "series.tail(2)"
      ]
    },
    {
      "cell_type": "markdown",
      "id": "083d4550",
      "metadata": {
        "id": "083d4550"
      },
      "source": [
        "### 수정\n",
        "><b>index 수정</b>"
      ]
    },
    {
      "cell_type": "code",
      "execution_count": null,
      "id": "edb8effc",
      "metadata": {
        "id": "edb8effc",
        "colab": {
          "base_uri": "https://localhost:8080/"
        },
        "outputId": "2015c988-0852-4794-ccb6-513d1137e23d"
      },
      "outputs": [
        {
          "output_type": "execute_result",
          "data": {
            "text/plain": [
              "국어    70\n",
              "영어    60\n",
              "수학    90\n",
              "Name: 점수, dtype: int64"
            ]
          },
          "metadata": {},
          "execution_count": 46
        }
      ],
      "source": [
        "series_index = [\"미술\", \"음악\",\"체육\"]\n",
        "series"
      ]
    },
    {
      "cell_type": "markdown",
      "id": "5385f3ad",
      "metadata": {
        "id": "5385f3ad"
      },
      "source": [
        "><b>특정 값 수정</b>"
      ]
    },
    {
      "cell_type": "code",
      "execution_count": null,
      "id": "a6938238",
      "metadata": {
        "id": "a6938238",
        "colab": {
          "base_uri": "https://localhost:8080/"
        },
        "outputId": "e7a773b8-8127-4048-d309-b5166cc97c52"
      },
      "outputs": [
        {
          "output_type": "execute_result",
          "data": {
            "text/plain": [
              "75"
            ]
          },
          "metadata": {},
          "execution_count": 49
        }
      ],
      "source": [
        "series['미술'] = 75\n",
        "series[\"미술\"]"
      ]
    },
    {
      "cell_type": "markdown",
      "id": "79fbe5da",
      "metadata": {
        "id": "79fbe5da"
      },
      "source": [
        "><b>데이터 타입 변경</b>"
      ]
    },
    {
      "cell_type": "code",
      "execution_count": null,
      "id": "80176db3",
      "metadata": {
        "id": "80176db3",
        "colab": {
          "base_uri": "https://localhost:8080/"
        },
        "outputId": "0b6d49d6-7cd1-4929-c4fd-74b72e299221"
      },
      "outputs": [
        {
          "output_type": "execute_result",
          "data": {
            "text/plain": [
              "0    1\n",
              "1    1\n",
              "2    1\n",
              "dtype: int64"
            ]
          },
          "metadata": {},
          "execution_count": 52
        }
      ],
      "source": [
        "series1 = pd.Series([1,1,1])\n",
        "series1"
      ]
    },
    {
      "cell_type": "code",
      "execution_count": null,
      "id": "53692b19",
      "metadata": {
        "id": "53692b19",
        "colab": {
          "base_uri": "https://localhost:8080/"
        },
        "outputId": "afadf365-7eee-4bc9-8811-9870f7140a53"
      },
      "outputs": [
        {
          "output_type": "execute_result",
          "data": {
            "text/plain": [
              "0    1.0\n",
              "1    1.0\n",
              "2    1.0\n",
              "dtype: float64"
            ]
          },
          "metadata": {},
          "execution_count": 53
        }
      ],
      "source": [
        "# astype(변경타입)\n",
        "\n",
        "series1.astype(\"float\")"
      ]
    },
    {
      "cell_type": "code",
      "execution_count": null,
      "id": "0dd29ecc",
      "metadata": {
        "id": "0dd29ecc",
        "colab": {
          "base_uri": "https://localhost:8080/"
        },
        "outputId": "e2035255-64a3-461c-97ad-2ba292d7ea13"
      },
      "outputs": [
        {
          "output_type": "execute_result",
          "data": {
            "text/plain": [
              "0    1\n",
              "1    1\n",
              "2    1\n",
              "dtype: int64"
            ]
          },
          "metadata": {},
          "execution_count": 54
        }
      ],
      "source": [
        "series1\n"
      ]
    },
    {
      "cell_type": "code",
      "execution_count": null,
      "id": "2646d838",
      "metadata": {
        "id": "2646d838",
        "colab": {
          "base_uri": "https://localhost:8080/"
        },
        "outputId": "677f048d-5bfc-4f7b-d5a4-762ceb2bce6f"
      },
      "outputs": [
        {
          "output_type": "execute_result",
          "data": {
            "text/plain": [
              "0    1.0\n",
              "1    1.0\n",
              "2    1.0\n",
              "dtype: float64"
            ]
          },
          "metadata": {},
          "execution_count": 55
        }
      ],
      "source": [
        "# 원본 변경을 원할 때는 다시 담기\n",
        "\n",
        "series1 = series1.astype(\"float\")\n",
        "series1"
      ]
    },
    {
      "cell_type": "markdown",
      "id": "8dd1ad69",
      "metadata": {
        "id": "8dd1ad69"
      },
      "source": [
        "**astype 사용 시 주의점 : 변경할 수 없는 데이터가 들어있는 경우**"
      ]
    },
    {
      "cell_type": "code",
      "execution_count": null,
      "id": "f0ccfa4f",
      "metadata": {
        "id": "f0ccfa4f",
        "colab": {
          "base_uri": "https://localhost:8080/"
        },
        "outputId": "b26669d6-47e2-4176-ade7-2917afff1a75"
      },
      "outputs": [
        {
          "output_type": "execute_result",
          "data": {
            "text/plain": [
              "0    1.1\n",
              "1    2.2\n",
              "2    3.3\n",
              "dtype: float64"
            ]
          },
          "metadata": {},
          "execution_count": 57
        }
      ],
      "source": [
        "series1 = pd.Series([\"1.1\",\"2.2\",\"3.3\"])\n",
        "series1.astype(\"float\")"
      ]
    },
    {
      "cell_type": "code",
      "execution_count": null,
      "id": "30631f17",
      "metadata": {
        "scrolled": true,
        "id": "30631f17"
      },
      "outputs": [],
      "source": [
        "series1 = pd.Series([\"test\",\"2.2\",\"3.3\"])\n",
        "series1.astype(\"float\")"
      ]
    },
    {
      "cell_type": "markdown",
      "id": "3b2841c7",
      "metadata": {
        "id": "3b2841c7"
      },
      "source": [
        "### 삭제\n",
        "><b>특정 행 삭제</b>"
      ]
    },
    {
      "cell_type": "code",
      "execution_count": null,
      "id": "e13adab3",
      "metadata": {
        "id": "e13adab3",
        "colab": {
          "base_uri": "https://localhost:8080/"
        },
        "outputId": "dbfb07d9-8f5e-4223-c8ea-975da7e35aee"
      },
      "outputs": [
        {
          "output_type": "execute_result",
          "data": {
            "text/plain": [
              "국어    70\n",
              "영어    60\n",
              "수학    90\n",
              "미술    75\n",
              "Name: 점수, dtype: int64"
            ]
          },
          "metadata": {},
          "execution_count": 58
        }
      ],
      "source": [
        "series"
      ]
    },
    {
      "cell_type": "code",
      "execution_count": null,
      "id": "cfe793bc",
      "metadata": {
        "id": "cfe793bc"
      },
      "outputs": [],
      "source": [
        "del series[\"미술\"]"
      ]
    },
    {
      "cell_type": "code",
      "execution_count": null,
      "id": "ae64df33",
      "metadata": {
        "id": "ae64df33",
        "colab": {
          "base_uri": "https://localhost:8080/"
        },
        "outputId": "453b87f2-e405-4f49-8a60-a828c29a4b0d"
      },
      "outputs": [
        {
          "output_type": "execute_result",
          "data": {
            "text/plain": [
              "국어    70\n",
              "영어    60\n",
              "수학    90\n",
              "Name: 점수, dtype: int64"
            ]
          },
          "metadata": {},
          "execution_count": 61
        }
      ],
      "source": [
        "series"
      ]
    }
  ],
  "metadata": {
    "kernelspec": {
      "display_name": "Python 3 (ipykernel)",
      "language": "python",
      "name": "python3"
    },
    "language_info": {
      "codemirror_mode": {
        "name": "ipython",
        "version": 3
      },
      "file_extension": ".py",
      "mimetype": "text/x-python",
      "name": "python",
      "nbconvert_exporter": "python",
      "pygments_lexer": "ipython3",
      "version": "3.9.12"
    },
    "colab": {
      "provenance": [],
      "collapsed_sections": [
        "8b356858",
        "0bea210c"
      ],
      "include_colab_link": true
    }
  },
  "nbformat": 4,
  "nbformat_minor": 5
}