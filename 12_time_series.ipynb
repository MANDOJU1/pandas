{
  "cells": [
    {
      "cell_type": "markdown",
      "metadata": {
        "id": "view-in-github",
        "colab_type": "text"
      },
      "source": [
        "<a href=\"https://colab.research.google.com/github/MANDOJU1/pandas/blob/main/12_time_series.ipynb\" target=\"_parent\"><img src=\"https://colab.research.google.com/assets/colab-badge.svg\" alt=\"Open In Colab\"/></a>"
      ]
    },
    {
      "cell_type": "markdown",
      "id": "70a1e7f8",
      "metadata": {
        "id": "70a1e7f8"
      },
      "source": [
        "## Ⅰ. 시계열\n",
        "\n",
        "- 시간상 여러 지점을 관측하거나 측정할 수 있도록 목록 또는 그래프로 표시한 일련의 데이터 점\n",
        "- 일정한 간격의 연속적이고 동등한 점들로 이루어진 시퀀스\n",
        "- 빅데이터에서 일반적으로 동등한 시간 간격으로 배치된 연속적 사건으로 나타남\n",
        "- ex) 금융시장의 주가 예측, 일기 예보, 전력 에너지 소비 추세, 웹 사이트 방문자 수 트렌트 등"
      ]
    },
    {
      "cell_type": "markdown",
      "id": "ab234286",
      "metadata": {
        "id": "ab234286"
      },
      "source": [
        "## Ⅱ. 파이썬 날짜 및 시간 관련 객체\n",
        "\n",
        "\n",
        "| 클래스              | 내용                                                               |\n",
        "|---------------------|--------------------------------------------------------------------|\n",
        "| class datetime.date | 그레고리력으로 날짜를 다룸. year,month,day 속성이 있음 |\n",
        "| class datetime.time | 특정일과 관련 없이 모든 날(day)을 24*60*60 초로 다룸. hour,minute,second,microsecond,tzinfo 속성이 있음|\n",
        "| class datetime.datetime | 날짜와 시간의 조합. year,month,day,hour,minute,second,microsecond,tzinfo 속성이 있음|\n",
        "| class datetime.timedelta | date 인스턴스 간, time 인스턴스 간 또는 datetime 인스턴스들 간 차이를 마이크로초로 나타내는 기간|\n"
      ]
    },
    {
      "cell_type": "markdown",
      "id": "2977a3ee",
      "metadata": {
        "id": "2977a3ee"
      },
      "source": [
        "## Ⅲ. pandas 로 날짜 다루기\n",
        "### 1. 시계열 자료와 pandas\n",
        "- 년도별, 월별, 일별, 시별, 분별 초별등 시간의 흐름에 따라 관측된 자료\n",
        "- pandas 에서 시계열 자료를 손쉽게 다룰 수 있도록, datetime (datetime64) 자료형 제공\n",
        "  - pandas.to_datetime() 함수를 사용해서, 날짜와 시간을 나타내는 문자열을 datetime (datetime64) 자료형으로 변경 가능\n",
        "  \n",
        "### 2. pandas.to_datetime() 사용법\n",
        "- 문자열 타입의 시간을 pandas 의 datetime (datetime64) 형으로 변경\n",
        "- 주요 사용법\n",
        "  - Series 변수 = to_datetime(Series 변수)\n",
        "    - return 된 Series 변수 데이터는 datetime64 형으로 변형되어 저장\n",
        "  - Series 변수 = to_datetime(Series 변수, format='~~~')\n",
        "    - Series 에 변환될 문자열이 특별한 포맷을 가져서, 자동변환이 어려운 경우 명시적으로 format 지정 (옵션)\n",
        "  - Series 변수 = to_datetime(Series 변수, errors='raise')\n",
        "    - 디폴트 raise\n",
        "    - errors 가능한 값: ignore(무시), raise(에러 발생), coerce(NaT 로 값 변경해서 저장) (옵션)\n",
        "\n",
        "\n",
        "| 표시 | 의미                                |\n",
        "|------|:-------------------------------------|\n",
        "| %y   | 연도를 축약해서 표시, 예: 21        |\n",
        "| %Y   | 연도를 축약하지 않고 표시, 예: 2021 |\n",
        "| %m   | 월을 두자릿 수로 표시, 예: 01 ~ 12  |\n",
        "| %d   | 일을 두자릿 수로 표시, 예: 01 ~ 31  |\n",
        "| %H   | 시간 표시(24시간), 예: 00 ~ 23        |\n",
        "| %M   | 분 표시, 예: 00 ~ 59  |\n",
        "| %S   | 초 표시, 예: 00 ~ 59        |\n",
        "\n",
        "> 참고: https://docs.python.org/3/library/datetime.html#strftime-and-strptime-behavior"
      ]
    },
    {
      "cell_type": "code",
      "execution_count": 1,
      "id": "fdd15e47",
      "metadata": {
        "id": "fdd15e47"
      },
      "outputs": [],
      "source": [
        "import pandas as pd"
      ]
    },
    {
      "cell_type": "markdown",
      "id": "5cacfdfb",
      "metadata": {
        "id": "5cacfdfb"
      },
      "source": [
        "### [실습1]"
      ]
    },
    {
      "cell_type": "markdown",
      "id": "e5c9efb0",
      "metadata": {
        "id": "e5c9efb0"
      },
      "source": [
        "#### 1) 날짜를 인덱스로 갖는 시리즈 객체 생성"
      ]
    },
    {
      "cell_type": "code",
      "source": [
        "pd.date_range?"
      ],
      "metadata": {
        "id": "mscf48CxOUjQ"
      },
      "id": "mscf48CxOUjQ",
      "execution_count": 4,
      "outputs": []
    },
    {
      "cell_type": "code",
      "execution_count": 5,
      "id": "b4802c4b",
      "metadata": {
        "id": "b4802c4b",
        "colab": {
          "base_uri": "https://localhost:8080/"
        },
        "outputId": "f4593ce2-1f7e-4a17-e162-e82df5b97e41"
      },
      "outputs": [
        {
          "output_type": "execute_result",
          "data": {
            "text/plain": [
              "2024-12-31    0\n",
              "2025-12-31    1\n",
              "2026-12-31    2\n",
              "Freq: A-DEC, dtype: int64"
            ]
          },
          "metadata": {},
          "execution_count": 5
        }
      ],
      "source": [
        "pd.Series(range(3), index= pd.date_range('2024',freq='Y', periods=3))"
      ]
    },
    {
      "cell_type": "markdown",
      "id": "46ab976b",
      "metadata": {
        "id": "46ab976b"
      },
      "source": [
        "#### 2) 날짜를 value로 갖는 시리즈 객체 생성"
      ]
    },
    {
      "cell_type": "code",
      "execution_count": 6,
      "id": "5900e92a",
      "metadata": {
        "id": "5900e92a",
        "colab": {
          "base_uri": "https://localhost:8080/"
        },
        "outputId": "f96a4fe1-91f9-46e1-c6dd-7dfa8ad94254"
      },
      "outputs": [
        {
          "output_type": "execute_result",
          "data": {
            "text/plain": [
              "0   2024-01-01\n",
              "1   2024-01-02\n",
              "2   2024-01-03\n",
              "dtype: datetime64[ns]"
            ]
          },
          "metadata": {},
          "execution_count": 6
        }
      ],
      "source": [
        "# freq='D' 기본형태\n",
        "pd.Series(pd.date_range('2024', periods=3))"
      ]
    },
    {
      "cell_type": "code",
      "execution_count": 7,
      "id": "d0c57105",
      "metadata": {
        "id": "d0c57105",
        "outputId": "757ecfef-cc33-48be-b2dc-b65ff4c0e9e7",
        "colab": {
          "base_uri": "https://localhost:8080/"
        }
      },
      "outputs": [
        {
          "output_type": "execute_result",
          "data": {
            "text/plain": [
              "0   2024-06-01\n",
              "1   2024-06-02\n",
              "2   2024-06-03\n",
              "dtype: datetime64[ns]"
            ]
          },
          "metadata": {},
          "execution_count": 7
        }
      ],
      "source": [
        "pd.Series(pd.date_range('20240601', periods=3))"
      ]
    },
    {
      "cell_type": "markdown",
      "id": "c6109dbf",
      "metadata": {
        "id": "c6109dbf"
      },
      "source": [
        "#### 3) 날짜+시간을 value로 갖는 시리즈 객체 생성"
      ]
    },
    {
      "cell_type": "code",
      "execution_count": 11,
      "id": "202bc379",
      "metadata": {
        "id": "202bc379",
        "outputId": "fead2473-c1b8-4181-f9c4-8069fe2377b3",
        "colab": {
          "base_uri": "https://localhost:8080/"
        }
      },
      "outputs": [
        {
          "output_type": "execute_result",
          "data": {
            "text/plain": [
              "0   2024-06-01 09:10:12\n",
              "1   2024-06-01 10:10:12\n",
              "2   2024-06-01 11:10:12\n",
              "dtype: datetime64[ns]"
            ]
          },
          "metadata": {},
          "execution_count": 11
        }
      ],
      "source": [
        "ser = pd.Series(pd.date_range('20240601 09:10:12', freq=\"H\", periods=3))\n",
        "ser"
      ]
    },
    {
      "cell_type": "markdown",
      "id": "6f390715",
      "metadata": {
        "id": "6f390715"
      },
      "source": [
        "#### 4) 시간대 정보 접근 : .dt"
      ]
    },
    {
      "cell_type": "code",
      "execution_count": 12,
      "id": "287c8a59",
      "metadata": {
        "id": "287c8a59",
        "outputId": "ea688baa-0fcb-4f6c-9ab2-27eff862bf1c",
        "colab": {
          "base_uri": "https://localhost:8080/"
        }
      },
      "outputs": [
        {
          "output_type": "execute_result",
          "data": {
            "text/plain": [
              "0     9\n",
              "1    10\n",
              "2    11\n",
              "dtype: int32"
            ]
          },
          "metadata": {},
          "execution_count": 12
        }
      ],
      "source": [
        "ser.dt.hour"
      ]
    },
    {
      "cell_type": "code",
      "execution_count": 14,
      "id": "f54144d3",
      "metadata": {
        "id": "f54144d3",
        "outputId": "e3a0f05b-24ed-42f8-bb1e-b9e5ae8210db",
        "colab": {
          "base_uri": "https://localhost:8080/"
        }
      },
      "outputs": [
        {
          "output_type": "execute_result",
          "data": {
            "text/plain": [
              "0    10\n",
              "1    10\n",
              "2    10\n",
              "dtype: int32"
            ]
          },
          "metadata": {},
          "execution_count": 14
        }
      ],
      "source": [
        "ser.dt.minute"
      ]
    },
    {
      "cell_type": "code",
      "execution_count": 13,
      "id": "9409ca6b",
      "metadata": {
        "id": "9409ca6b",
        "outputId": "eae457f1-7d8c-46e5-cfaf-0a90773ca56a",
        "colab": {
          "base_uri": "https://localhost:8080/"
        }
      },
      "outputs": [
        {
          "output_type": "execute_result",
          "data": {
            "text/plain": [
              "0    12\n",
              "1    12\n",
              "2    12\n",
              "dtype: int32"
            ]
          },
          "metadata": {},
          "execution_count": 13
        }
      ],
      "source": [
        "ser.dt.second"
      ]
    },
    {
      "cell_type": "code",
      "execution_count": 17,
      "id": "7cfc261c",
      "metadata": {
        "collapsed": true,
        "id": "7cfc261c",
        "colab": {
          "base_uri": "https://localhost:8080/"
        },
        "outputId": "32afd37d-8940-4f9c-e351-dc516833458d"
      },
      "outputs": [
        {
          "output_type": "execute_result",
          "data": {
            "text/plain": [
              "0   2024-06-01 09:20:31\n",
              "1   2024-06-02 09:20:31\n",
              "2   2024-06-03 09:20:31\n",
              "dtype: datetime64[ns]"
            ]
          },
          "metadata": {},
          "execution_count": 17
        }
      ],
      "source": [
        "ser = pd.Series(pd.date_range('20240601 09:20:31', periods=3))\n",
        "ser"
      ]
    },
    {
      "cell_type": "code",
      "execution_count": 18,
      "id": "7ac9e570",
      "metadata": {
        "id": "7ac9e570",
        "outputId": "76e09103-8f99-4ae6-adac-dc859d183ea2",
        "colab": {
          "base_uri": "https://localhost:8080/"
        }
      },
      "outputs": [
        {
          "output_type": "execute_result",
          "data": {
            "text/plain": [
              "0    9\n",
              "1    9\n",
              "2    9\n",
              "dtype: int32"
            ]
          },
          "metadata": {},
          "execution_count": 18
        }
      ],
      "source": [
        "ser.dt.hour"
      ]
    },
    {
      "cell_type": "code",
      "execution_count": 21,
      "id": "3333f41c",
      "metadata": {
        "id": "3333f41c",
        "outputId": "4f04428d-bef2-4b85-b3cd-a3a505836bb1",
        "colab": {
          "base_uri": "https://localhost:8080/"
        }
      },
      "outputs": [
        {
          "output_type": "execute_result",
          "data": {
            "text/plain": [
              "0    31\n",
              "1    31\n",
              "2    31\n",
              "dtype: int32"
            ]
          },
          "metadata": {},
          "execution_count": 21
        }
      ],
      "source": [
        "ser.dt.second"
      ]
    },
    {
      "cell_type": "code",
      "source": [
        "ser.dt.year\n",
        "ser.dt.month\n",
        "ser.dt.day"
      ],
      "metadata": {
        "colab": {
          "base_uri": "https://localhost:8080/"
        },
        "id": "uYUutOKkTNgY",
        "outputId": "fb1814b3-ff9e-43a6-cc71-74903e2018b0"
      },
      "id": "uYUutOKkTNgY",
      "execution_count": 26,
      "outputs": [
        {
          "output_type": "execute_result",
          "data": {
            "text/plain": [
              "0    1\n",
              "1    2\n",
              "2    3\n",
              "dtype: int32"
            ]
          },
          "metadata": {},
          "execution_count": 26
        }
      ]
    },
    {
      "cell_type": "markdown",
      "id": "c8bfd4d5",
      "metadata": {
        "id": "c8bfd4d5"
      },
      "source": [
        "- day가 2인 열 추출"
      ]
    },
    {
      "cell_type": "code",
      "execution_count": 29,
      "id": "330ab96b",
      "metadata": {
        "id": "330ab96b",
        "colab": {
          "base_uri": "https://localhost:8080/"
        },
        "outputId": "a97a979f-36ac-401b-aa60-db0dddd86ea3"
      },
      "outputs": [
        {
          "output_type": "execute_result",
          "data": {
            "text/plain": [
              "1   2024-06-02 09:20:31\n",
              "dtype: datetime64[ns]"
            ]
          },
          "metadata": {},
          "execution_count": 29
        }
      ],
      "source": [
        "ser[ser.dt.day == 2]"
      ]
    },
    {
      "cell_type": "markdown",
      "id": "fb83387e",
      "metadata": {
        "id": "fb83387e"
      },
      "source": [
        "### [실습2]"
      ]
    },
    {
      "cell_type": "code",
      "execution_count": 32,
      "id": "af2de2fa",
      "metadata": {
        "id": "af2de2fa"
      },
      "outputs": [],
      "source": [
        "# dtype=\"datetime64[ns]\" 데이터 타입을 지정함\n",
        "\n",
        "df = pd.DataFrame(\n",
        "    {\n",
        "        'order' : ['2020-01-01 07:10:00',\n",
        "                   '2020-01-08 07:20:30',\n",
        "                   '2020-02-20 11:20:00',\n",
        "                   '2020-02-20 04:40:50',\n",
        "                   '2020-02-28 12:10:20',\n",
        "                   '2019-01-10 17:23:50',\n",
        "                   '2019-06-20 22:27:50',\n",
        "                   '2019-06-20 21:15:59',\n",
        "                   '2019-12-10 21:15:59']}, dtype=\"datetime64[ns]\"\n",
        "    )"
      ]
    },
    {
      "cell_type": "code",
      "execution_count": 33,
      "id": "86b6771d",
      "metadata": {
        "id": "86b6771d",
        "outputId": "f8b15aaf-dd32-4c20-ad14-b7eabb0dd8d0",
        "colab": {
          "base_uri": "https://localhost:8080/",
          "height": 204
        }
      },
      "outputs": [
        {
          "output_type": "execute_result",
          "data": {
            "text/plain": [
              "<bound method DataFrame.info of                  order\n",
              "0  2020-01-01 07:10:00\n",
              "1  2020-01-08 07:20:30\n",
              "2  2020-02-20 11:20:00\n",
              "3  2020-02-20 04:40:50\n",
              "4  2020-02-28 12:10:20\n",
              "5  2019-01-10 17:23:50\n",
              "6  2019-06-20 22:27:50\n",
              "7  2019-06-20 21:15:59\n",
              "8  2019-12-10 21:15:59>"
            ],
            "text/html": [
              "<div style=\"max-width:800px; border: 1px solid var(--colab-border-color);\"><style>\n",
              "      pre.function-repr-contents {\n",
              "        overflow-x: auto;\n",
              "        padding: 8px 12px;\n",
              "        max-height: 500px;\n",
              "      }\n",
              "\n",
              "      pre.function-repr-contents.function-repr-contents-collapsed {\n",
              "        cursor: pointer;\n",
              "        max-height: 100px;\n",
              "      }\n",
              "    </style>\n",
              "    <pre style=\"white-space: initial; background:\n",
              "         var(--colab-secondary-surface-color); padding: 8px 12px;\n",
              "         border-bottom: 1px solid var(--colab-border-color);\"><b>pandas.core.frame.DataFrame.info</b><br/>def info(verbose: bool | None=None, buf: WriteBuffer[str] | None=None, max_cols: int | None=None, memory_usage: bool | str | None=None, show_counts: bool | None=None) -&gt; None</pre><pre class=\"function-repr-contents function-repr-contents-collapsed\" style=\"\"><a class=\"filepath\" style=\"display:none\" href=\"#\">/usr/local/lib/python3.10/dist-packages/pandas/core/frame.py</a>Print a concise summary of a DataFrame.\n",
              "\n",
              "This method prints information about a DataFrame including\n",
              "the index dtype and columns, non-null values and memory usage.\n",
              "\n",
              "Parameters\n",
              "----------\n",
              "verbose : bool, optional\n",
              "    Whether to print the full summary. By default, the setting in\n",
              "    ``pandas.options.display.max_info_columns`` is followed.\n",
              "buf : writable buffer, defaults to sys.stdout\n",
              "    Where to send the output. By default, the output is printed to\n",
              "    sys.stdout. Pass a writable buffer if you need to further process\n",
              "    the output.\n",
              "max_cols : int, optional\n",
              "    When to switch from the verbose to the truncated output. If the\n",
              "    DataFrame has more than `max_cols` columns, the truncated output\n",
              "    is used. By default, the setting in\n",
              "    ``pandas.options.display.max_info_columns`` is used.\n",
              "memory_usage : bool, str, optional\n",
              "    Specifies whether total memory usage of the DataFrame\n",
              "    elements (including the index) should be displayed. By default,\n",
              "    this follows the ``pandas.options.display.memory_usage`` setting.\n",
              "\n",
              "    True always show memory usage. False never shows memory usage.\n",
              "    A value of &#x27;deep&#x27; is equivalent to &quot;True with deep introspection&quot;.\n",
              "    Memory usage is shown in human-readable units (base-2\n",
              "    representation). Without deep introspection a memory estimation is\n",
              "    made based in column dtype and number of rows assuming values\n",
              "    consume the same memory amount for corresponding dtypes. With deep\n",
              "    memory introspection, a real memory usage calculation is performed\n",
              "    at the cost of computational resources. See the\n",
              "    :ref:`Frequently Asked Questions &lt;df-memory-usage&gt;` for more\n",
              "    details.\n",
              "show_counts : bool, optional\n",
              "    Whether to show the non-null counts. By default, this is shown\n",
              "    only if the DataFrame is smaller than\n",
              "    ``pandas.options.display.max_info_rows`` and\n",
              "    ``pandas.options.display.max_info_columns``. A value of True always\n",
              "    shows the counts, and False never shows the counts.\n",
              "\n",
              "Returns\n",
              "-------\n",
              "None\n",
              "    This method prints a summary of a DataFrame and returns None.\n",
              "\n",
              "See Also\n",
              "--------\n",
              "DataFrame.describe: Generate descriptive statistics of DataFrame\n",
              "    columns.\n",
              "DataFrame.memory_usage: Memory usage of DataFrame columns.\n",
              "\n",
              "Examples\n",
              "--------\n",
              "&gt;&gt;&gt; int_values = [1, 2, 3, 4, 5]\n",
              "&gt;&gt;&gt; text_values = [&#x27;alpha&#x27;, &#x27;beta&#x27;, &#x27;gamma&#x27;, &#x27;delta&#x27;, &#x27;epsilon&#x27;]\n",
              "&gt;&gt;&gt; float_values = [0.0, 0.25, 0.5, 0.75, 1.0]\n",
              "&gt;&gt;&gt; df = pd.DataFrame({&quot;int_col&quot;: int_values, &quot;text_col&quot;: text_values,\n",
              "...                   &quot;float_col&quot;: float_values})\n",
              "&gt;&gt;&gt; df\n",
              "    int_col text_col  float_col\n",
              "0        1    alpha       0.00\n",
              "1        2     beta       0.25\n",
              "2        3    gamma       0.50\n",
              "3        4    delta       0.75\n",
              "4        5  epsilon       1.00\n",
              "\n",
              "Prints information of all columns:\n",
              "\n",
              "&gt;&gt;&gt; df.info(verbose=True)\n",
              "&lt;class &#x27;pandas.core.frame.DataFrame&#x27;&gt;\n",
              "RangeIndex: 5 entries, 0 to 4\n",
              "Data columns (total 3 columns):\n",
              " #   Column     Non-Null Count  Dtype\n",
              "---  ------     --------------  -----\n",
              " 0   int_col    5 non-null      int64\n",
              " 1   text_col   5 non-null      object\n",
              " 2   float_col  5 non-null      float64\n",
              "dtypes: float64(1), int64(1), object(1)\n",
              "memory usage: 248.0+ bytes\n",
              "\n",
              "Prints a summary of columns count and its dtypes but not per column\n",
              "information:\n",
              "\n",
              "&gt;&gt;&gt; df.info(verbose=False)\n",
              "&lt;class &#x27;pandas.core.frame.DataFrame&#x27;&gt;\n",
              "RangeIndex: 5 entries, 0 to 4\n",
              "Columns: 3 entries, int_col to float_col\n",
              "dtypes: float64(1), int64(1), object(1)\n",
              "memory usage: 248.0+ bytes\n",
              "\n",
              "Pipe output of DataFrame.info to buffer instead of sys.stdout, get\n",
              "buffer content and writes to a text file:\n",
              "\n",
              "&gt;&gt;&gt; import io\n",
              "&gt;&gt;&gt; buffer = io.StringIO()\n",
              "&gt;&gt;&gt; df.info(buf=buffer)\n",
              "&gt;&gt;&gt; s = buffer.getvalue()\n",
              "&gt;&gt;&gt; with open(&quot;df_info.txt&quot;, &quot;w&quot;,\n",
              "...           encoding=&quot;utf-8&quot;) as f:  # doctest: +SKIP\n",
              "...     f.write(s)\n",
              "260\n",
              "\n",
              "The `memory_usage` parameter allows deep introspection mode, specially\n",
              "useful for big DataFrames and fine-tune memory optimization:\n",
              "\n",
              "&gt;&gt;&gt; random_strings_array = np.random.choice([&#x27;a&#x27;, &#x27;b&#x27;, &#x27;c&#x27;], 10 ** 6)\n",
              "&gt;&gt;&gt; df = pd.DataFrame({\n",
              "...     &#x27;column_1&#x27;: np.random.choice([&#x27;a&#x27;, &#x27;b&#x27;, &#x27;c&#x27;], 10 ** 6),\n",
              "...     &#x27;column_2&#x27;: np.random.choice([&#x27;a&#x27;, &#x27;b&#x27;, &#x27;c&#x27;], 10 ** 6),\n",
              "...     &#x27;column_3&#x27;: np.random.choice([&#x27;a&#x27;, &#x27;b&#x27;, &#x27;c&#x27;], 10 ** 6)\n",
              "... })\n",
              "&gt;&gt;&gt; df.info()\n",
              "&lt;class &#x27;pandas.core.frame.DataFrame&#x27;&gt;\n",
              "RangeIndex: 1000000 entries, 0 to 999999\n",
              "Data columns (total 3 columns):\n",
              " #   Column    Non-Null Count    Dtype\n",
              "---  ------    --------------    -----\n",
              " 0   column_1  1000000 non-null  object\n",
              " 1   column_2  1000000 non-null  object\n",
              " 2   column_3  1000000 non-null  object\n",
              "dtypes: object(3)\n",
              "memory usage: 22.9+ MB\n",
              "\n",
              "&gt;&gt;&gt; df.info(memory_usage=&#x27;deep&#x27;)\n",
              "&lt;class &#x27;pandas.core.frame.DataFrame&#x27;&gt;\n",
              "RangeIndex: 1000000 entries, 0 to 999999\n",
              "Data columns (total 3 columns):\n",
              " #   Column    Non-Null Count    Dtype\n",
              "---  ------    --------------    -----\n",
              " 0   column_1  1000000 non-null  object\n",
              " 1   column_2  1000000 non-null  object\n",
              " 2   column_3  1000000 non-null  object\n",
              "dtypes: object(3)\n",
              "memory usage: 165.9 MB</pre>\n",
              "      <script>\n",
              "      if (google.colab.kernel.accessAllowed && google.colab.files && google.colab.files.view) {\n",
              "        for (const element of document.querySelectorAll('.filepath')) {\n",
              "          element.style.display = 'block'\n",
              "          element.onclick = (event) => {\n",
              "            event.preventDefault();\n",
              "            event.stopPropagation();\n",
              "            google.colab.files.view(element.textContent, 3345);\n",
              "          };\n",
              "        }\n",
              "      }\n",
              "      for (const element of document.querySelectorAll('.function-repr-contents')) {\n",
              "        element.onclick = (event) => {\n",
              "          event.preventDefault();\n",
              "          event.stopPropagation();\n",
              "          element.classList.toggle('function-repr-contents-collapsed');\n",
              "        };\n",
              "      }\n",
              "      </script>\n",
              "      </div>"
            ]
          },
          "metadata": {},
          "execution_count": 33
        }
      ],
      "source": [
        "df.info"
      ]
    },
    {
      "cell_type": "markdown",
      "id": "6da2c6c9",
      "metadata": {
        "id": "6da2c6c9"
      },
      "source": [
        "#### 1) object => datetime64(ns)"
      ]
    },
    {
      "cell_type": "code",
      "source": [
        "pd.to_datetime?"
      ],
      "metadata": {
        "id": "KIL0U1BzUUrP"
      },
      "id": "KIL0U1BzUUrP",
      "execution_count": 36,
      "outputs": []
    },
    {
      "cell_type": "code",
      "execution_count": 41,
      "id": "ccb598dc",
      "metadata": {
        "id": "ccb598dc",
        "colab": {
          "base_uri": "https://localhost:8080/",
          "height": 331
        },
        "outputId": "d3d7b300-eb4f-4716-f843-fec5e5739f0c"
      },
      "outputs": [
        {
          "output_type": "execute_result",
          "data": {
            "text/plain": [
              "                order\n",
              "0 2020-01-01 07:10:00\n",
              "1 2020-01-08 07:20:30\n",
              "2 2020-02-20 11:20:00\n",
              "3 2020-02-20 04:40:50\n",
              "4 2020-02-28 12:10:20\n",
              "5 2019-01-10 17:23:50\n",
              "6 2019-06-20 22:27:50\n",
              "7 2019-06-20 21:15:59\n",
              "8 2019-12-10 21:15:59"
            ],
            "text/html": [
              "\n",
              "  <div id=\"df-6e13f11d-252b-41e4-9e01-2b97e28f16c7\" class=\"colab-df-container\">\n",
              "    <div>\n",
              "<style scoped>\n",
              "    .dataframe tbody tr th:only-of-type {\n",
              "        vertical-align: middle;\n",
              "    }\n",
              "\n",
              "    .dataframe tbody tr th {\n",
              "        vertical-align: top;\n",
              "    }\n",
              "\n",
              "    .dataframe thead th {\n",
              "        text-align: right;\n",
              "    }\n",
              "</style>\n",
              "<table border=\"1\" class=\"dataframe\">\n",
              "  <thead>\n",
              "    <tr style=\"text-align: right;\">\n",
              "      <th></th>\n",
              "      <th>order</th>\n",
              "    </tr>\n",
              "  </thead>\n",
              "  <tbody>\n",
              "    <tr>\n",
              "      <th>0</th>\n",
              "      <td>2020-01-01 07:10:00</td>\n",
              "    </tr>\n",
              "    <tr>\n",
              "      <th>1</th>\n",
              "      <td>2020-01-08 07:20:30</td>\n",
              "    </tr>\n",
              "    <tr>\n",
              "      <th>2</th>\n",
              "      <td>2020-02-20 11:20:00</td>\n",
              "    </tr>\n",
              "    <tr>\n",
              "      <th>3</th>\n",
              "      <td>2020-02-20 04:40:50</td>\n",
              "    </tr>\n",
              "    <tr>\n",
              "      <th>4</th>\n",
              "      <td>2020-02-28 12:10:20</td>\n",
              "    </tr>\n",
              "    <tr>\n",
              "      <th>5</th>\n",
              "      <td>2019-01-10 17:23:50</td>\n",
              "    </tr>\n",
              "    <tr>\n",
              "      <th>6</th>\n",
              "      <td>2019-06-20 22:27:50</td>\n",
              "    </tr>\n",
              "    <tr>\n",
              "      <th>7</th>\n",
              "      <td>2019-06-20 21:15:59</td>\n",
              "    </tr>\n",
              "    <tr>\n",
              "      <th>8</th>\n",
              "      <td>2019-12-10 21:15:59</td>\n",
              "    </tr>\n",
              "  </tbody>\n",
              "</table>\n",
              "</div>\n",
              "    <div class=\"colab-df-buttons\">\n",
              "\n",
              "  <div class=\"colab-df-container\">\n",
              "    <button class=\"colab-df-convert\" onclick=\"convertToInteractive('df-6e13f11d-252b-41e4-9e01-2b97e28f16c7')\"\n",
              "            title=\"Convert this dataframe to an interactive table.\"\n",
              "            style=\"display:none;\">\n",
              "\n",
              "  <svg xmlns=\"http://www.w3.org/2000/svg\" height=\"24px\" viewBox=\"0 -960 960 960\">\n",
              "    <path d=\"M120-120v-720h720v720H120Zm60-500h600v-160H180v160Zm220 220h160v-160H400v160Zm0 220h160v-160H400v160ZM180-400h160v-160H180v160Zm440 0h160v-160H620v160ZM180-180h160v-160H180v160Zm440 0h160v-160H620v160Z\"/>\n",
              "  </svg>\n",
              "    </button>\n",
              "\n",
              "  <style>\n",
              "    .colab-df-container {\n",
              "      display:flex;\n",
              "      gap: 12px;\n",
              "    }\n",
              "\n",
              "    .colab-df-convert {\n",
              "      background-color: #E8F0FE;\n",
              "      border: none;\n",
              "      border-radius: 50%;\n",
              "      cursor: pointer;\n",
              "      display: none;\n",
              "      fill: #1967D2;\n",
              "      height: 32px;\n",
              "      padding: 0 0 0 0;\n",
              "      width: 32px;\n",
              "    }\n",
              "\n",
              "    .colab-df-convert:hover {\n",
              "      background-color: #E2EBFA;\n",
              "      box-shadow: 0px 1px 2px rgba(60, 64, 67, 0.3), 0px 1px 3px 1px rgba(60, 64, 67, 0.15);\n",
              "      fill: #174EA6;\n",
              "    }\n",
              "\n",
              "    .colab-df-buttons div {\n",
              "      margin-bottom: 4px;\n",
              "    }\n",
              "\n",
              "    [theme=dark] .colab-df-convert {\n",
              "      background-color: #3B4455;\n",
              "      fill: #D2E3FC;\n",
              "    }\n",
              "\n",
              "    [theme=dark] .colab-df-convert:hover {\n",
              "      background-color: #434B5C;\n",
              "      box-shadow: 0px 1px 3px 1px rgba(0, 0, 0, 0.15);\n",
              "      filter: drop-shadow(0px 1px 2px rgba(0, 0, 0, 0.3));\n",
              "      fill: #FFFFFF;\n",
              "    }\n",
              "  </style>\n",
              "\n",
              "    <script>\n",
              "      const buttonEl =\n",
              "        document.querySelector('#df-6e13f11d-252b-41e4-9e01-2b97e28f16c7 button.colab-df-convert');\n",
              "      buttonEl.style.display =\n",
              "        google.colab.kernel.accessAllowed ? 'block' : 'none';\n",
              "\n",
              "      async function convertToInteractive(key) {\n",
              "        const element = document.querySelector('#df-6e13f11d-252b-41e4-9e01-2b97e28f16c7');\n",
              "        const dataTable =\n",
              "          await google.colab.kernel.invokeFunction('convertToInteractive',\n",
              "                                                    [key], {});\n",
              "        if (!dataTable) return;\n",
              "\n",
              "        const docLinkHtml = 'Like what you see? Visit the ' +\n",
              "          '<a target=\"_blank\" href=https://colab.research.google.com/notebooks/data_table.ipynb>data table notebook</a>'\n",
              "          + ' to learn more about interactive tables.';\n",
              "        element.innerHTML = '';\n",
              "        dataTable['output_type'] = 'display_data';\n",
              "        await google.colab.output.renderOutput(dataTable, element);\n",
              "        const docLink = document.createElement('div');\n",
              "        docLink.innerHTML = docLinkHtml;\n",
              "        element.appendChild(docLink);\n",
              "      }\n",
              "    </script>\n",
              "  </div>\n",
              "\n",
              "\n",
              "<div id=\"df-6aaf6f4c-ff69-4091-8d3e-62f39b6232bc\">\n",
              "  <button class=\"colab-df-quickchart\" onclick=\"quickchart('df-6aaf6f4c-ff69-4091-8d3e-62f39b6232bc')\"\n",
              "            title=\"Suggest charts\"\n",
              "            style=\"display:none;\">\n",
              "\n",
              "<svg xmlns=\"http://www.w3.org/2000/svg\" height=\"24px\"viewBox=\"0 0 24 24\"\n",
              "     width=\"24px\">\n",
              "    <g>\n",
              "        <path d=\"M19 3H5c-1.1 0-2 .9-2 2v14c0 1.1.9 2 2 2h14c1.1 0 2-.9 2-2V5c0-1.1-.9-2-2-2zM9 17H7v-7h2v7zm4 0h-2V7h2v10zm4 0h-2v-4h2v4z\"/>\n",
              "    </g>\n",
              "</svg>\n",
              "  </button>\n",
              "\n",
              "<style>\n",
              "  .colab-df-quickchart {\n",
              "      --bg-color: #E8F0FE;\n",
              "      --fill-color: #1967D2;\n",
              "      --hover-bg-color: #E2EBFA;\n",
              "      --hover-fill-color: #174EA6;\n",
              "      --disabled-fill-color: #AAA;\n",
              "      --disabled-bg-color: #DDD;\n",
              "  }\n",
              "\n",
              "  [theme=dark] .colab-df-quickchart {\n",
              "      --bg-color: #3B4455;\n",
              "      --fill-color: #D2E3FC;\n",
              "      --hover-bg-color: #434B5C;\n",
              "      --hover-fill-color: #FFFFFF;\n",
              "      --disabled-bg-color: #3B4455;\n",
              "      --disabled-fill-color: #666;\n",
              "  }\n",
              "\n",
              "  .colab-df-quickchart {\n",
              "    background-color: var(--bg-color);\n",
              "    border: none;\n",
              "    border-radius: 50%;\n",
              "    cursor: pointer;\n",
              "    display: none;\n",
              "    fill: var(--fill-color);\n",
              "    height: 32px;\n",
              "    padding: 0;\n",
              "    width: 32px;\n",
              "  }\n",
              "\n",
              "  .colab-df-quickchart:hover {\n",
              "    background-color: var(--hover-bg-color);\n",
              "    box-shadow: 0 1px 2px rgba(60, 64, 67, 0.3), 0 1px 3px 1px rgba(60, 64, 67, 0.15);\n",
              "    fill: var(--button-hover-fill-color);\n",
              "  }\n",
              "\n",
              "  .colab-df-quickchart-complete:disabled,\n",
              "  .colab-df-quickchart-complete:disabled:hover {\n",
              "    background-color: var(--disabled-bg-color);\n",
              "    fill: var(--disabled-fill-color);\n",
              "    box-shadow: none;\n",
              "  }\n",
              "\n",
              "  .colab-df-spinner {\n",
              "    border: 2px solid var(--fill-color);\n",
              "    border-color: transparent;\n",
              "    border-bottom-color: var(--fill-color);\n",
              "    animation:\n",
              "      spin 1s steps(1) infinite;\n",
              "  }\n",
              "\n",
              "  @keyframes spin {\n",
              "    0% {\n",
              "      border-color: transparent;\n",
              "      border-bottom-color: var(--fill-color);\n",
              "      border-left-color: var(--fill-color);\n",
              "    }\n",
              "    20% {\n",
              "      border-color: transparent;\n",
              "      border-left-color: var(--fill-color);\n",
              "      border-top-color: var(--fill-color);\n",
              "    }\n",
              "    30% {\n",
              "      border-color: transparent;\n",
              "      border-left-color: var(--fill-color);\n",
              "      border-top-color: var(--fill-color);\n",
              "      border-right-color: var(--fill-color);\n",
              "    }\n",
              "    40% {\n",
              "      border-color: transparent;\n",
              "      border-right-color: var(--fill-color);\n",
              "      border-top-color: var(--fill-color);\n",
              "    }\n",
              "    60% {\n",
              "      border-color: transparent;\n",
              "      border-right-color: var(--fill-color);\n",
              "    }\n",
              "    80% {\n",
              "      border-color: transparent;\n",
              "      border-right-color: var(--fill-color);\n",
              "      border-bottom-color: var(--fill-color);\n",
              "    }\n",
              "    90% {\n",
              "      border-color: transparent;\n",
              "      border-bottom-color: var(--fill-color);\n",
              "    }\n",
              "  }\n",
              "</style>\n",
              "\n",
              "  <script>\n",
              "    async function quickchart(key) {\n",
              "      const quickchartButtonEl =\n",
              "        document.querySelector('#' + key + ' button');\n",
              "      quickchartButtonEl.disabled = true;  // To prevent multiple clicks.\n",
              "      quickchartButtonEl.classList.add('colab-df-spinner');\n",
              "      try {\n",
              "        const charts = await google.colab.kernel.invokeFunction(\n",
              "            'suggestCharts', [key], {});\n",
              "      } catch (error) {\n",
              "        console.error('Error during call to suggestCharts:', error);\n",
              "      }\n",
              "      quickchartButtonEl.classList.remove('colab-df-spinner');\n",
              "      quickchartButtonEl.classList.add('colab-df-quickchart-complete');\n",
              "    }\n",
              "    (() => {\n",
              "      let quickchartButtonEl =\n",
              "        document.querySelector('#df-6aaf6f4c-ff69-4091-8d3e-62f39b6232bc button');\n",
              "      quickchartButtonEl.style.display =\n",
              "        google.colab.kernel.accessAllowed ? 'block' : 'none';\n",
              "    })();\n",
              "  </script>\n",
              "</div>\n",
              "\n",
              "  <div id=\"id_96d3cb29-f7a3-4f29-8917-d6d9166ff2c0\">\n",
              "    <style>\n",
              "      .colab-df-generate {\n",
              "        background-color: #E8F0FE;\n",
              "        border: none;\n",
              "        border-radius: 50%;\n",
              "        cursor: pointer;\n",
              "        display: none;\n",
              "        fill: #1967D2;\n",
              "        height: 32px;\n",
              "        padding: 0 0 0 0;\n",
              "        width: 32px;\n",
              "      }\n",
              "\n",
              "      .colab-df-generate:hover {\n",
              "        background-color: #E2EBFA;\n",
              "        box-shadow: 0px 1px 2px rgba(60, 64, 67, 0.3), 0px 1px 3px 1px rgba(60, 64, 67, 0.15);\n",
              "        fill: #174EA6;\n",
              "      }\n",
              "\n",
              "      [theme=dark] .colab-df-generate {\n",
              "        background-color: #3B4455;\n",
              "        fill: #D2E3FC;\n",
              "      }\n",
              "\n",
              "      [theme=dark] .colab-df-generate:hover {\n",
              "        background-color: #434B5C;\n",
              "        box-shadow: 0px 1px 3px 1px rgba(0, 0, 0, 0.15);\n",
              "        filter: drop-shadow(0px 1px 2px rgba(0, 0, 0, 0.3));\n",
              "        fill: #FFFFFF;\n",
              "      }\n",
              "    </style>\n",
              "    <button class=\"colab-df-generate\" onclick=\"generateWithVariable('df')\"\n",
              "            title=\"Generate code using this dataframe.\"\n",
              "            style=\"display:none;\">\n",
              "\n",
              "  <svg xmlns=\"http://www.w3.org/2000/svg\" height=\"24px\"viewBox=\"0 0 24 24\"\n",
              "       width=\"24px\">\n",
              "    <path d=\"M7,19H8.4L18.45,9,17,7.55,7,17.6ZM5,21V16.75L18.45,3.32a2,2,0,0,1,2.83,0l1.4,1.43a1.91,1.91,0,0,1,.58,1.4,1.91,1.91,0,0,1-.58,1.4L9.25,21ZM18.45,9,17,7.55Zm-12,3A5.31,5.31,0,0,0,4.9,8.1,5.31,5.31,0,0,0,1,6.5,5.31,5.31,0,0,0,4.9,4.9,5.31,5.31,0,0,0,6.5,1,5.31,5.31,0,0,0,8.1,4.9,5.31,5.31,0,0,0,12,6.5,5.46,5.46,0,0,0,6.5,12Z\"/>\n",
              "  </svg>\n",
              "    </button>\n",
              "    <script>\n",
              "      (() => {\n",
              "      const buttonEl =\n",
              "        document.querySelector('#id_96d3cb29-f7a3-4f29-8917-d6d9166ff2c0 button.colab-df-generate');\n",
              "      buttonEl.style.display =\n",
              "        google.colab.kernel.accessAllowed ? 'block' : 'none';\n",
              "\n",
              "      buttonEl.onclick = () => {\n",
              "        google.colab.notebook.generateWithVariable('df');\n",
              "      }\n",
              "      })();\n",
              "    </script>\n",
              "  </div>\n",
              "\n",
              "    </div>\n",
              "  </div>\n"
            ],
            "application/vnd.google.colaboratory.intrinsic+json": {
              "type": "dataframe",
              "variable_name": "df",
              "summary": "{\n  \"name\": \"df\",\n  \"rows\": 9,\n  \"fields\": [\n    {\n      \"column\": \"order\",\n      \"properties\": {\n        \"dtype\": \"date\",\n        \"min\": \"2019-01-10 17:23:50\",\n        \"max\": \"2020-02-28 12:10:20\",\n        \"num_unique_values\": 9,\n        \"samples\": [\n          \"2019-06-20 21:15:59\",\n          \"2020-01-08 07:20:30\",\n          \"2019-01-10 17:23:50\"\n        ],\n        \"semantic_type\": \"\",\n        \"description\": \"\"\n      }\n    }\n  ]\n}"
            }
          },
          "metadata": {},
          "execution_count": 41
        }
      ],
      "source": [
        "# to_datetime()\n",
        "\n",
        "df['order'] = pd.to_datetime(df['order'], format='%Y-%m-%d %H:%M:%S')"
      ]
    },
    {
      "cell_type": "code",
      "execution_count": 42,
      "id": "ddd3fbe1",
      "metadata": {
        "id": "ddd3fbe1",
        "outputId": "d4a174ed-f410-4807-fa19-bd3bc8cde092",
        "colab": {
          "base_uri": "https://localhost:8080/"
        }
      },
      "outputs": [
        {
          "output_type": "stream",
          "name": "stdout",
          "text": [
            "<class 'pandas.core.frame.DataFrame'>\n",
            "RangeIndex: 9 entries, 0 to 8\n",
            "Data columns (total 1 columns):\n",
            " #   Column  Non-Null Count  Dtype         \n",
            "---  ------  --------------  -----         \n",
            " 0   order   9 non-null      datetime64[ns]\n",
            "dtypes: datetime64[ns](1)\n",
            "memory usage: 200.0 bytes\n"
          ]
        }
      ],
      "source": [
        "df.info()"
      ]
    },
    {
      "cell_type": "code",
      "execution_count": null,
      "id": "dbeb0eef",
      "metadata": {
        "id": "dbeb0eef"
      },
      "outputs": [],
      "source": []
    }
  ],
  "metadata": {
    "kernelspec": {
      "display_name": "Python 3 (ipykernel)",
      "language": "python",
      "name": "python3"
    },
    "language_info": {
      "codemirror_mode": {
        "name": "ipython",
        "version": 3
      },
      "file_extension": ".py",
      "mimetype": "text/x-python",
      "name": "python",
      "nbconvert_exporter": "python",
      "pygments_lexer": "ipython3",
      "version": "3.9.12"
    },
    "colab": {
      "provenance": [],
      "include_colab_link": true
    }
  },
  "nbformat": 4,
  "nbformat_minor": 5
}